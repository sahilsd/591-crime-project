{
 "cells": [
  {
   "cell_type": "code",
   "execution_count": 1,
   "metadata": {
    "collapsed": true
   },
   "outputs": [],
   "source": [
    "import json\n",
    "import numpy as np\n",
    "import statsmodels.api as sm\n",
    "import matplotlib.pyplot as plt\n",
    "from statsmodels.sandbox.regression.predstd import wls_prediction_std\n",
    "\n",
    "import statsmodels.formula.api as smf\n",
    "import pandas\n",
    "import sklearn.datasets as sk_data\n",
    "import sklearn.metrics as metrics\n",
    "from sklearn.cluster import KMeans\n",
    "import pandas as pd\n",
    "from recsys.algorithm.factorize import SVD\n",
    "\n",
    "import seaborn as sns\n",
    "%matplotlib inline\n"
   ]
  },
  {
   "cell_type": "markdown",
   "metadata": {},
   "source": [
    "### BUILD MODEL"
   ]
  },
  {
   "cell_type": "code",
   "execution_count": 50,
   "metadata": {
    "collapsed": false
   },
   "outputs": [],
   "source": [
    "svdK = 25\n",
    "\n",
    "modelCrimeType = SVD()\n",
    "modelCrimeType.load_data(filename='../data/Boston-parse-type.dat.input', sep='::', format={'col':0, 'row':1, 'value':2, 'ids': str})\n",
    "modelCrimeType.compute(k=svdK, min_values=175, pre_normalize=None, mean_center=True, post_normalize=True)"
   ]
  },
  {
   "cell_type": "code",
   "execution_count": 52,
   "metadata": {
    "collapsed": true
   },
   "outputs": [],
   "source": [
    "modelCrimeTime = SVD()\n",
    "modelCrimeTime.load_data(filename='../data/Boston-parse-time.dat.input', sep='::', format={'col':0, 'row':1, 'value':2, 'ids': str})\n",
    "modelCrimeTime.compute(k=svdK, min_values=6, pre_normalize=None, mean_center=True, post_normalize=True)"
   ]
  },
  {
   "cell_type": "markdown",
   "metadata": {},
   "source": [
    "### BASE PREDICTIONS AND TRAINING"
   ]
  },
  {
   "cell_type": "code",
   "execution_count": null,
   "metadata": {
    "collapsed": true
   },
   "outputs": [],
   "source": []
  },
  {
   "cell_type": "code",
   "execution_count": 53,
   "metadata": {
    "collapsed": false
   },
   "outputs": [
    {
     "name": "stdout",
     "output_type": "stream",
     "text": [
      "['A1', 'Sunday', '2\\n']\n",
      "1589.01190476\n"
     ]
    }
   ],
   "source": [
    "#../data/Boston-parse-time.dat.trainerr\n",
    "trainTimefd = open(\"../data/Boston-parse-time.dat.trainerr\",\"r\")\n",
    "trainTypefd = open(\"../data/Boston-parse-type.dat.trainerr\",\"r\")\n",
    "for l in trainTimefd.readlines():\n",
    "    row = l.split(\"::\")\n",
    "    try:\n",
    "        print row\n",
    "        predTime = modelCrimeTime.predict(row[1], row[0])\n",
    "        #predType = modelCrimeType.predict(row[1], row[0])\n",
    "        print predTime\n",
    "        break\n",
    "    except KeyError:\n",
    "        print '.',\n",
    "        continue\n",
    "\n",
    "\n",
    "trainTimefd.close()\n",
    "trainTypefd.close()"
   ]
  },
  {
   "cell_type": "markdown",
   "metadata": {},
   "source": [
    "### GENERATE PREDICTION PAIRS"
   ]
  },
  {
   "cell_type": "markdown",
   "metadata": {},
   "source": [
    "    Shell command:\n",
    "    $ tail -n 42699 Boston-parse-type.dat | cut -d':' -f1,3 > Boston-parse-type.dat.test\n"
   ]
  },
  {
   "cell_type": "markdown",
   "metadata": {},
   "source": [
    "### PREDICTION"
   ]
  },
  {
   "cell_type": "code",
   "execution_count": 20,
   "metadata": {
    "collapsed": true
   },
   "outputs": [],
   "source": [
    "#../data/Boston-parse-time.dat.test\n",
    "#D4:Sunday\n",
    "#C6:Sunday\n",
    "#E5:Sunday...\n"
   ]
  },
  {
   "cell_type": "markdown",
   "metadata": {},
   "source": [
    "### ANALYSE PREDICTIONS (Error)"
   ]
  },
  {
   "cell_type": "code",
   "execution_count": 21,
   "metadata": {
    "collapsed": true
   },
   "outputs": [],
   "source": [
    "#rmse/classiff error?..."
   ]
  }
 ],
 "metadata": {
  "kernelspec": {
   "display_name": "Python 2",
   "language": "python",
   "name": "python2"
  },
  "language_info": {
   "codemirror_mode": {
    "name": "ipython",
    "version": 2
   },
   "file_extension": ".py",
   "mimetype": "text/x-python",
   "name": "python",
   "nbconvert_exporter": "python",
   "pygments_lexer": "ipython2",
   "version": "2.7.11"
  }
 },
 "nbformat": 4,
 "nbformat_minor": 0
}
