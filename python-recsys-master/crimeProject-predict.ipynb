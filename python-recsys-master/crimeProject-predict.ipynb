{
 "cells": [
  {
   "cell_type": "code",
   "execution_count": 101,
   "metadata": {
    "collapsed": true
   },
   "outputs": [],
   "source": [
    "import json\n",
    "import numpy as np\n",
    "import statsmodels.api as sm\n",
    "import matplotlib.pyplot as plt\n",
    "from statsmodels.sandbox.regression.predstd import wls_prediction_std\n",
    "import sys\n",
    "import statsmodels.formula.api as smf\n",
    "import pandas\n",
    "import sklearn.datasets as sk_data\n",
    "import sklearn.metrics as metrics\n",
    "from sklearn.cluster import KMeans\n",
    "import pandas as pd\n",
    "from recsys.algorithm.factorize import SVD\n",
    "\n",
    "import warnings\n",
    "from sklearn.ensemble.forest import DecisionTreeRegressor as tree\n",
    "\n",
    "import seaborn as sns\n",
    "%matplotlib inline\n"
   ]
  },
  {
   "cell_type": "markdown",
   "metadata": {},
   "source": [
    "### BUILD TREE AND TRAIN"
   ]
  },
  {
   "cell_type": "markdown",
   "metadata": {},
   "source": [
    "#### 1. Type of Crime"
   ]
  },
  {
   "cell_type": "code",
   "execution_count": 90,
   "metadata": {
    "collapsed": false
   },
   "outputs": [],
   "source": [
    "\n",
    "daydict = {\"monday\":1, \"tuesday\":2, \"wednesday\":3, \"thursday\":4, \"friday\":5, \"saturday\":6, \"sunday\":7}\n",
    "\n",
    "typeX = []\n",
    "typey = []\n",
    "\n",
    "inTypefd = open(\"../data/Boston-parse-type.dat.input\",\"r\")\n",
    "for l in inTypefd.readlines():\n",
    "    row = l.split(\"::\")\n",
    "    typeX.append([hash(row[0]),daydict[row[1].lower()]])\n",
    "    typey.append(row[2][:-1])\n",
    "inTypefd.close()\n",
    "\n",
    "timeX = []\n",
    "timey = []\n",
    "\n",
    "inTimefd = open(\"../data/Boston-parse-time.dat.input\",\"r\")\n",
    "for l in inTimefd.readlines():\n",
    "    row = l.split(\"::\")\n",
    "    timeX.append([hash(row[0]),daydict[row[1].lower()]])\n",
    "    timey.append(row[2][:-1])\n",
    "inTimefd.close()"
   ]
  },
  {
   "cell_type": "code",
   "execution_count": 96,
   "metadata": {
    "collapsed": false
   },
   "outputs": [
    {
     "name": "stdout",
     "output_type": "stream",
     "text": [
      "['A1', 'Sunday', '41\\n']\n"
     ]
    }
   ],
   "source": [
    "trainTypeSet = []\n",
    "\n",
    "trainTypefd = open(\"../data/Boston-parse-type.dat.trainerr\",\"r\")\n",
    "for l in trainTypefd.readlines():\n",
    "    row = l.split(\"::\")\n",
    "    trainTypeSet.append(row)\n",
    "trainTypefd.close()\n",
    "print trainTypeSet[0]"
   ]
  },
  {
   "cell_type": "code",
   "execution_count": 130,
   "metadata": {
    "collapsed": false
   },
   "outputs": [
    {
     "name": "stdout",
     "output_type": "stream",
     "text": [
      "leaf 22 None 0.0 : 198.823893647\n",
      "leaf 23 22 198.825673121 : 198.823893647\n",
      "leaf 24 22 198.825673121 : 198.823893647\n",
      "leaf 25 22 198.825673121 : 198.823893647\n",
      "leaf 26 22 198.825673121 : 198.823893647\n",
      "leaf 27 22 198.825673121 : 198.823893647\n",
      "leaf 28 22 198.825673121 : 198.823893647\n",
      "leaf 29 22 198.825673121 : 198.823893647\n"
     ]
    }
   ],
   "source": [
    "\n",
    "warnings.filterwarnings(\"ignore\", category=DeprecationWarning) \n",
    "\n",
    "\n",
    "glerr = float('inf')\n",
    "optLeaftype, optDepthtype = None, None\n",
    "rate = 0.0\n",
    "\n",
    "for leaf in xrange(22, 30):\n",
    "    print 'leaf', leaf, optLeaftype, rate,\":\",\n",
    "    \"\"\"\n",
    "    Predict with each model and find minimum error parameters\n",
    "    \"\"\"\n",
    "    for depth in range(5, 16, 2):\n",
    "        model = tree(min_samples_leaf=leaf, max_depth=depth)\n",
    "        model = model.fit(typeX,typey)\n",
    "\n",
    "        err = 0\n",
    "        for l in trainTypeSet:            \n",
    "            #print l\n",
    "            x = [hash(l[0]),daydict[l[1].lower()]]\n",
    "            \n",
    "            pred = model.predict(x)[0]\n",
    "            #print pred, l[2][:-1]\n",
    "            #sys.exit(0)\n",
    "            err += abs(pred-int(l[2][:-1]))            \n",
    "        rate = 1.0*err/10000\n",
    "        if rate < glerr:\n",
    "            glerr = rate\n",
    "            \"\"\"\n",
    "            Later use these to build predicting model:\n",
    "            \"\"\"\n",
    "            optLeaftype, optDepthtype  = leaf, depth\n",
    "        \n",
    "    print glerr"
   ]
  },
  {
   "cell_type": "code",
   "execution_count": 131,
   "metadata": {
    "collapsed": false
   },
   "outputs": [
    {
     "name": "stdout",
     "output_type": "stream",
     "text": [
      "22 7\n"
     ]
    }
   ],
   "source": [
    "print optLeaftype, optDepthtype"
   ]
  },
  {
   "cell_type": "code",
   "execution_count": 118,
   "metadata": {
    "collapsed": false
   },
   "outputs": [
    {
     "name": "stdout",
     "output_type": "stream",
     "text": [
      "['A1', 'Sunday', '2\\n']\n"
     ]
    }
   ],
   "source": [
    "trainTimeSet = []\n",
    "\n",
    "trainTimefd = open(\"../data/Boston-parse-time.dat.trainerr\",\"r\")\n",
    "for l in trainTimefd.readlines():\n",
    "    row = l.split(\"::\")\n",
    "    trainTimeSet.append(row)\n",
    "trainTimefd.close()\n",
    "print trainTimeSet[0]"
   ]
  },
  {
   "cell_type": "code",
   "execution_count": 121,
   "metadata": {
    "collapsed": false
   },
   "outputs": [
    {
     "name": "stdout",
     "output_type": "stream",
     "text": [
      "leaf 22 None 0.0 : 4.4648\n",
      "leaf 23 22 4.4648 : 4.4648\n",
      "leaf 24 22 4.4648 : 4.4648\n",
      "leaf 25 22 4.4648 : 4.4648\n",
      "leaf 26 22 4.4648 : 4.4648\n",
      "leaf 27 22 4.4648 : 4.4648\n",
      "leaf 28 22 4.4648 : 4.4648\n",
      "leaf 29 22 4.4648 : 4.4648\n"
     ]
    }
   ],
   "source": [
    "\n",
    "warnings.filterwarnings(\"ignore\", category=DeprecationWarning) \n",
    "\n",
    "\n",
    "glerr = float('inf')\n",
    "optLeaftime, optDepthtime = None, None\n",
    "rate = 0.0\n",
    "\n",
    "for leaf in xrange(22, 30):\n",
    "    print 'leaf', leaf, optLeaftime, rate,\":\",\n",
    "    \"\"\"\n",
    "    Predict with each model and find minimum error parameters\n",
    "    \"\"\"\n",
    "    for depth in range(5, 16, 2):\n",
    "        model = tree(min_samples_leaf=leaf, max_depth=depth)\n",
    "        model = model.fit(timeX,timey)\n",
    "\n",
    "        err = 0\n",
    "        for l in trainTimeSet:                        \n",
    "            x = [hash(l[0]),daydict[l[1].lower()]]\n",
    "            \n",
    "            pred = round(model.predict(x)[0])\n",
    "            #print pred, l[2][:-1]\n",
    "            #sys.exit(0)\n",
    "            err += abs(pred-int(l[2][:-1]))            \n",
    "        rate = 1.0*err/10000\n",
    "        if rate < glerr:\n",
    "            glerr = rate\n",
    "            \"\"\"\n",
    "            Later use these to build predicting model:\n",
    "            \"\"\"\n",
    "            optLeaftime, optDepthtime  = leaf, depth\n",
    "        \n",
    "    print glerr"
   ]
  },
  {
   "cell_type": "code",
   "execution_count": 122,
   "metadata": {
    "collapsed": false
   },
   "outputs": [
    {
     "name": "stdout",
     "output_type": "stream",
     "text": [
      "22 5\n"
     ]
    }
   ],
   "source": [
    "print optLeaftime, optDepthtime"
   ]
  },
  {
   "cell_type": "markdown",
   "metadata": {},
   "source": [
    "### PREDICT USING TREES"
   ]
  },
  {
   "cell_type": "markdown",
   "metadata": {},
   "source": [
    "#### 1. Type of Crime"
   ]
  },
  {
   "cell_type": "code",
   "execution_count": 135,
   "metadata": {
    "collapsed": false
   },
   "outputs": [],
   "source": [
    "model = tree(min_samples_leaf=optLeaftype, max_depth=optDepthtype)\n",
    "model = model.fit(typeX,typey)\n",
    "\n",
    "testTypefd = open(\"../data/Boston.dat.testpair\",\"r\")\n",
    "resfd = open(\"../results/Boston-type-pred.dat\",\"w\")\n",
    "for l in testTypefd.readlines():\n",
    "    row = l.split(\"::\")\n",
    "    \n",
    "    x = [hash(row[0]),daydict[row[1][:-1].lower()]]\n",
    "    pred = round(model.predict(x)[0])\n",
    "    resfd.write(row[0]+\"-\"+row[1][:-1]+\"-\"+str(pred)+\"\\n\")\n",
    "    #print pred\n",
    "    #break\n",
    "    \n",
    "testTypefd.close()\n",
    "resfd.close()"
   ]
  },
  {
   "cell_type": "markdown",
   "metadata": {},
   "source": [
    "#### 2. Time of the day"
   ]
  },
  {
   "cell_type": "code",
   "execution_count": 138,
   "metadata": {
    "collapsed": false
   },
   "outputs": [],
   "source": [
    "model = tree(min_samples_leaf=optLeaftime, max_depth=optDepthtime)\n",
    "model = model.fit(timeX,timey)\n",
    "\n",
    "testTypefd = open(\"../data/Boston.dat.testpair\",\"r\")\n",
    "resfd = open(\"../results/Boston-time-pred.dat\",\"w\")\n",
    "\n",
    "for l in testTypefd.readlines():\n",
    "    row = l.split(\"::\")\n",
    "    \n",
    "    x = [hash(row[0]),daydict[row[1][:-1].lower()]]\n",
    "    pred = model.predict(x)[0]*6\n",
    "    resfd.write(row[0]+\"-\"+row[1][:-1]+\"-\"+str(pred)+\"\\n\")\n",
    "    #print pred\n",
    "    #break\n",
    "testTypefd.close()\n",
    "resfd.close()"
   ]
  },
  {
   "cell_type": "markdown",
   "metadata": {},
   "source": [
    "### BUILD MODEL AND TRAIN"
   ]
  },
  {
   "cell_type": "code",
   "execution_count": 60,
   "metadata": {
    "collapsed": false
   },
   "outputs": [],
   "source": [
    "svdK = 20\n",
    "modelCrime = SVD()\n",
    "modelCrime.load_data(filename='../data/Boston-parse-type.dat.input', sep='::', format={'col':0, 'row':1, 'value':2, 'ids': str})\n",
    "modelCrime.compute(k=svdK, min_values=6, pre_normalize=None, mean_center=True, post_normalize=True)"
   ]
  },
  {
   "cell_type": "code",
   "execution_count": 70,
   "metadata": {
    "collapsed": false
   },
   "outputs": [
    {
     "name": "stdout",
     "output_type": "stream",
     "text": [
      "['A1', 'Sunday', '41\\n'] 32\n"
     ]
    }
   ],
   "source": [
    "trainTypefd = open(\"../data/Boston-parse-type.dat.trainerr\",\"r\")\n",
    "for l in trainTypefd.readlines():\n",
    "    row = l.split(\"::\")\n",
    "    try:        \n",
    "        predTime = int(round(modelCrime.predict(row[1], row[0])%125))\n",
    "        print row, predTime\n",
    "        break\n",
    "    except KeyError:\n",
    "        print '.',\n",
    "        continue\n",
    "\n",
    "trainTypefd.close()"
   ]
  },
  {
   "cell_type": "code",
   "execution_count": 40,
   "metadata": {
    "collapsed": false
   },
   "outputs": [],
   "source": [
    "modelCrimeTime = SVD()\n",
    "modelCrimeTime.load_data(filename='../data/Boston-parse-time.dat.input', sep='::', format={'col':0, 'row':1, 'value':2, 'ids': str})\n",
    "modelCrimeTime.compute(k=svdK, min_values=6, pre_normalize=None, mean_center=True, post_normalize=True)"
   ]
  },
  {
   "cell_type": "code",
   "execution_count": 73,
   "metadata": {
    "collapsed": false
   },
   "outputs": [
    {
     "name": "stdout",
     "output_type": "stream",
     "text": [
      "['A1', 'Sunday', '2\\n'] 1.0\n"
     ]
    }
   ],
   "source": [
    "#../data/Boston-parse-time.dat.trainerr\n",
    "trainTimefd = open(\"../data/Boston-parse-time.dat.trainerr\",\"r\")\n",
    "for l in trainTimefd.readlines():\n",
    "    row = l.split(\"::\")\n",
    "    try:\n",
    "        predTime = str(round(modelCrimeTime.predict(row[1], row[0])%7))\n",
    "        print row, predTime\n",
    "        \n",
    "        break\n",
    "    except KeyError:\n",
    "        print '.',\n",
    "        continue\n",
    "\n",
    "\n",
    "trainTimefd.close()\n"
   ]
  },
  {
   "cell_type": "markdown",
   "metadata": {},
   "source": [
    "### GENERATE PREDICTION PAIRS"
   ]
  },
  {
   "cell_type": "markdown",
   "metadata": {},
   "source": [
    "    Done during parsing phase"
   ]
  },
  {
   "cell_type": "markdown",
   "metadata": {},
   "source": [
    "### PREDICTION"
   ]
  },
  {
   "cell_type": "code",
   "execution_count": 140,
   "metadata": {
    "collapsed": false
   },
   "outputs": [],
   "source": [
    "#../data/Boston-parse-time.dat.test\n",
    "#D4:Sunday\n",
    "#C6:Sunday\n",
    "#E5:Sunday...\n",
    "timePred = open(\"../results/recsys-Boston-time-pred.dat\",\"w\")\n",
    "testTimefd = open(\"../data/Boston.dat.testpair\",\"r\")\n",
    "for l in testTimefd.readlines():\n",
    "    row = l.split(\"::\")\n",
    "    try:        \n",
    "        predTime = str(modelCrimeTime.predict(row[1][:-1], row[0])%7)\n",
    "        timePred.write(row[0]+\"-\"+row[1][:-1]+\",\"+predTime+\"\\n\")      \n",
    "        #break\n",
    "    except KeyError:\n",
    "        #print row, '....',\n",
    "        continue\n",
    "\n",
    "\n",
    "testTimefd.close()\n",
    "timePred.close()"
   ]
  },
  {
   "cell_type": "code",
   "execution_count": 141,
   "metadata": {
    "collapsed": true
   },
   "outputs": [],
   "source": [
    "\n",
    "typePred = open(\"../results/recsys-Boston-type-pred.dat\",\"w\")\n",
    "typeTestfd = open(\"../data/Boston.dat.testpair\",\"r\")\n",
    "\n",
    "for l in typeTestfd.readlines():\n",
    "    row = l.split(\"::\")\n",
    "    try:        \n",
    "        predType = str(modelCrime.predict(row[1][:-1], row[0])%125)\n",
    "        typePred.write(row[0]+\"-\"+row[1][:-1]+\",\"+predType+\"\\n\")              \n",
    "    except KeyError:\n",
    "        #print row, '....',\n",
    "        continue\n",
    "\n",
    "\n",
    "typeTestfd.close()\n",
    "typePred.close()"
   ]
  },
  {
   "cell_type": "markdown",
   "metadata": {},
   "source": [
    "### ANALYSE PREDICTIONS (Error)"
   ]
  },
  {
   "cell_type": "code",
   "execution_count": 21,
   "metadata": {
    "collapsed": true
   },
   "outputs": [],
   "source": [
    "#rmse/classiff error?..."
   ]
  }
 ],
 "metadata": {
  "kernelspec": {
   "display_name": "Python 2",
   "language": "python",
   "name": "python2"
  },
  "language_info": {
   "codemirror_mode": {
    "name": "ipython",
    "version": 2
   },
   "file_extension": ".py",
   "mimetype": "text/x-python",
   "name": "python",
   "nbconvert_exporter": "python",
   "pygments_lexer": "ipython2",
   "version": "2.7.11"
  }
 },
 "nbformat": 4,
 "nbformat_minor": 0
}
