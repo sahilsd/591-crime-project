{
 "cells": [
  {
   "cell_type": "markdown",
   "metadata": {
    "collapsed": true
   },
   "source": [
    "## City Crime Prediction Using Clustering and Classification Techniques"
   ]
  },
  {
   "cell_type": "markdown",
   "metadata": {},
   "source": [
    "Implement crime prediction final project for CS591-k1"
   ]
  },
  {
   "cell_type": "code",
   "execution_count": 1,
   "metadata": {
    "collapsed": true
   },
   "outputs": [],
   "source": [
    "import json\n",
    "import numpy as np\n",
    "import statsmodels.api as sm\n",
    "import matplotlib.pyplot as plt\n",
    "from statsmodels.sandbox.regression.predstd import wls_prediction_std\n",
    "\n",
    "import statsmodels.formula.api as smf\n",
    "import pandas\n",
    "import sklearn.datasets as sk_data\n",
    "import sklearn.metrics as metrics\n",
    "from sklearn.cluster import KMeans\n",
    "import pandas as pd\n",
    "\n",
    "import seaborn as sns\n",
    "%matplotlib inline\n"
   ]
  },
  {
   "cell_type": "code",
   "execution_count": 3,
   "metadata": {
    "collapsed": false,
    "scrolled": true
   },
   "outputs": [
    {
     "name": "stdout",
     "output_type": "stream",
     "text": [
      "268056\n"
     ]
    }
   ],
   "source": [
    "import json\n",
    "from pprint import pprint\n",
    "\n",
    "with open('boston-rows.json') as data_file:    \n",
    "    bostonjson = json.load(data_file)\n",
    "\n",
    "print len(bostonjson['data'])\n",
    "\n",
    "columnlist = []\n",
    "for col in bostonjson['meta']['view']['columns']:\n",
    "    columnlist.append(col['name'])\n",
    "\n",
    "    "
   ]
  },
  {
   "cell_type": "markdown",
   "metadata": {},
   "source": [
    "    Row format= 0:sequence number, 8:id, 10: type, 12:district, 13:area, 14:date, 15:weapon type, 19:year, 20:month, 21:day of week, 26:lat,long"
   ]
  },
  {
   "cell_type": "code",
   "execution_count": 4,
   "metadata": {
    "collapsed": false
   },
   "outputs": [
    {
     "name": "stdout",
     "output_type": "stream",
     "text": [
      "1 120420285 RESIDENTIAL BURGLARY D4 629 2012-07-08T06:00:00 Other 2012 7 Sunday [None, u'42.34638135', u'-71.10379454', None, False]\n"
     ]
    }
   ],
   "source": [
    "print bostonjson['data'][0][0], bostonjson['data'][0][8], bostonjson['data'][0][10], bostonjson['data'][0][12], \n",
    "print bostonjson['data'][0][13], bostonjson['data'][0][14], bostonjson['data'][0][15], bostonjson['data'][0][19], \n",
    "print bostonjson['data'][0][20], bostonjson['data'][0][21], bostonjson['data'][0][27],"
   ]
  },
  {
   "cell_type": "code",
   "execution_count": 5,
   "metadata": {
    "collapsed": false
   },
   "outputs": [
    {
     "name": "stdout",
     "output_type": "stream",
     "text": [
      "[u'sid', u'id', u'position', u'created_at', u'created_meta', u'updated_at', u'updated_meta', u'meta', u'COMPNOS', u'NatureCode', u'INCIDENT_TYPE_DESCRIPTION', u'MAIN_CRIMECODE', u'REPTDISTRICT', u'REPORTINGAREA', u'FROMDATE', u'WEAPONTYPE', u'Shooting', u'DOMESTIC', u'SHIFT', u'Year', u'Month', u'DAY_WEEK', u'UCRPART', u'X', u'Y', u'STREETNAME', u'XSTREETNAME', u'Location']\n",
      "  INCIDENT_TYPE_DESCRIPTION             FROMDATE  \\\n",
      "0      RESIDENTIAL BURGLARY  2012-07-08T06:00:00   \n",
      "1        AGGRAVATED ASSAULT  2012-07-08T06:03:00   \n",
      "2                   ROBBERY  2012-07-08T06:26:00   \n",
      "3       COMMERCIAL BURGLARY  2012-07-08T06:56:00   \n",
      "4                   ROBBERY  2012-07-08T07:15:00   \n",
      "\n",
      "                                         Location  \n",
      "0  [None, 42.34638135, -71.10379454, None, False]  \n",
      "1  [None, 42.31684135, -71.07458456, None, False]  \n",
      "2  [None, 42.34284135, -71.09698955, None, False]  \n",
      "3   [None, 42.3164411, -71.06582908, None, False]  \n",
      "4  [None, 42.27051636, -71.11989955, None, False]  \n"
     ]
    }
   ],
   "source": [
    "bostondf = pd.DataFrame(bostonjson['data'])\n",
    "bostondf.columns = columnlist\n",
    "print columnlist\n",
    "print bostondf.head()[['INCIDENT_TYPE_DESCRIPTION','FROMDATE','Location']]"
   ]
  },
  {
   "cell_type": "code",
   "execution_count": 24,
   "metadata": {
    "collapsed": false
   },
   "outputs": [
    {
     "name": "stdout",
     "output_type": "stream",
     "text": [
      "D4\n"
     ]
    }
   ],
   "source": [
    "print bostonjson['data'][0][12]"
   ]
  },
  {
   "cell_type": "code",
   "execution_count": 25,
   "metadata": {
    "collapsed": false
   },
   "outputs": [
    {
     "name": "stdout",
     "output_type": "stream",
     "text": [
      "42.34638135\n",
      "268056 268056 268056\n"
     ]
    }
   ],
   "source": [
    "print bostondf['Location'][0][1]\n",
    "latlist = map(lambda k: k[1], bostondf['Location'])\n",
    "longlist = map(lambda k: k[2], bostondf['Location'])\n",
    "\n",
    "typelist = map(lambda k: k, bostondf['INCIDENT_TYPE_DESCRIPTION'])\n",
    "hourlist = map(lambda k: k.split(\"T\")[1].split(\":\")[0], bostondf['FROMDATE'])\n",
    "daylist = map(lambda k: k, bostondf['DAY_WEEK'])\n",
    "\n",
    "print len(latlist), len(longlist), len(hourlist)"
   ]
  },
  {
   "cell_type": "code",
   "execution_count": 26,
   "metadata": {
    "collapsed": false
   },
   "outputs": [
    {
     "name": "stdout",
     "output_type": "stream",
     "text": [
      "268056\n"
     ]
    }
   ],
   "source": [
    "areacodelist = map(lambda k: k[12], bostonjson['data'])\n",
    "print len(areacodelist)"
   ]
  },
  {
   "cell_type": "code",
   "execution_count": 27,
   "metadata": {
    "collapsed": true
   },
   "outputs": [],
   "source": [
    "streetlist = map(lambda k: k, bostondf['STREETNAME'])"
   ]
  },
  {
   "cell_type": "code",
   "execution_count": 28,
   "metadata": {
    "collapsed": true
   },
   "outputs": [],
   "source": [
    "asdata={\"Area_Code\":areacodelist,\"Street_Name\":streetlist}\n",
    "asdf=pd.DataFrame(asdata)"
   ]
  },
  {
   "cell_type": "code",
   "execution_count": 29,
   "metadata": {
    "collapsed": false
   },
   "outputs": [],
   "source": [
    "streets=asdf.groupby(['Area_Code'])"
   ]
  },
  {
   "cell_type": "code",
   "execution_count": 30,
   "metadata": {
    "collapsed": false
   },
   "outputs": [
    {
     "name": "stdout",
     "output_type": "stream",
     "text": [
      "       Area_Code      Street_Name\n",
      "143983       HTU       PARK PLAZA\n",
      "173882       HTU       BRAGDON ST\n",
      "178159       HTU        STUART ST\n",
      "234844       HTU    WASHINGTON ST\n",
      "248544       HTU  COMMONWEALTH AV\n",
      "249846       HTU  COMMONWEALTH AV\n",
      "249907       HTU  COMMONWEALTH AV\n",
      "253200       HTU  COMMONWEALTH AV\n"
     ]
    }
   ],
   "source": [
    "for a,b in streets:\n",
    "    if a=='HTU':\n",
    "        print b"
   ]
  },
  {
   "cell_type": "code",
   "execution_count": 31,
   "metadata": {
    "collapsed": false
   },
   "outputs": [
    {
     "name": "stdout",
     "output_type": "stream",
     "text": [
      "268056\n"
     ]
    }
   ],
   "source": [
    "print len(streetlist)"
   ]
  },
  {
   "cell_type": "code",
   "execution_count": 32,
   "metadata": {
    "collapsed": true
   },
   "outputs": [],
   "source": [
    "import pandas as pd\n",
    "import warnings\n",
    "\n",
    "Assaultlist=[]\n",
    "DrugAlcohollist=[]\n",
    "Othercrimeslist=[]\n",
    "PublicDisorderlist=[]\n",
    "Theftlist=[]\n",
    "WhiteCollarCrimelist=[]\n",
    "BurglaryCrimelist=[]\n",
    "VandalismCrimelist=[]\n",
    "ArrestCrimelist=[]\n",
    "LarcenyCrimelist=[]\n",
    "HarassmentCrimelist=[]\n",
    "SexCrimelist=[]\n",
    "FireCrimelist=[]\n",
    "T1list=[]\n",
    "T2list=[]\n",
    "T3list=[]\n",
    "T4list=[]\n",
    "T5list=[]\n",
    "T6list=[]\n",
    "Weekdaylist=[]\n",
    "Weekendlist=[]\n",
    "\n",
    "crimedata ={\"AreaCode\":areacodelist,\"Crime_type\":typelist,\"Hour\":hourlist,\"Day\":daylist}\n"
   ]
  },
  {
   "cell_type": "code",
   "execution_count": 33,
   "metadata": {
    "collapsed": true
   },
   "outputs": [],
   "source": [
    "crimedf=pd.DataFrame(crimedata)"
   ]
  },
  {
   "cell_type": "code",
   "execution_count": 34,
   "metadata": {
    "collapsed": false
   },
   "outputs": [
    {
     "name": "stdout",
     "output_type": "stream",
     "text": [
      "268056\n"
     ]
    }
   ],
   "source": [
    "print len(crimedf)"
   ]
  },
  {
   "cell_type": "code",
   "execution_count": 35,
   "metadata": {
    "collapsed": false
   },
   "outputs": [],
   "source": [
    "crimedf=crimedf.loc[crimedf['AreaCode']!='NULL']\n",
    "crimedf=crimedf.loc[crimedf['Crime_type'] !=('BENoProp')]\n",
    "crimedf=crimedf.loc[crimedf['Crime_type'] !=('PropFound')]\n",
    "crimedf=crimedf.loc[crimedf['Crime_type'] !=('InvProp')]\n",
    "crimedf=crimedf.loc[crimedf['Crime_type'] !=('PersLoc')]\n",
    "crimedf=crimedf.loc[crimedf['Crime_type'] !=('MVAcc')]\n",
    "crimedf=crimedf.loc[crimedf['Crime_type'] !=('Ballist')]\n",
    "\n",
    "crimedf=crimedf.loc[crimedf['Crime_type'] !=('Argue')]\n",
    "crimedf=crimedf.loc[crimedf['Crime_type'] !=('Harbor')]\n",
    "crimedf=crimedf.loc[crimedf['Crime_type'] !=('Restrain')]\n",
    "crimedf=crimedf.loc[crimedf['Crime_type'] !=('Gather')]\n",
    "\n",
    "\n",
    "crimedf=crimedf.loc[crimedf['Crime_type'] !=('Service')]\n",
    "crimedf=crimedf.loc[crimedf['Crime_type'] !=('SkipFare')]\n",
    "crimedf=crimedf.loc[crimedf['Crime_type'] !=('SearchWarr')]\n",
    "crimedf=crimedf.loc[crimedf['Crime_type'] !=('PersMiss')]\n",
    "crimedf=crimedf.loc[crimedf['Crime_type'] !=('DEATH INVESTIGATION')]\n",
    "crimedf=crimedf.loc[crimedf['Crime_type'] !=('LICViol')]\n",
    "crimedf=crimedf.loc[crimedf['Crime_type'] !=('Landlord')]\n",
    "crimedf=crimedf.loc[crimedf['Crime_type'] !=('Hazardous')]\n",
    "crimedf=crimedf.loc[crimedf['Crime_type'] !=('Plates')]\n",
    "crimedf=crimedf.loc[crimedf['Crime_type'] !=('07RV')]\n",
    "crimedf=crimedf.loc[crimedf['Crime_type'] !=('PropDam')]\n",
    "crimedf=crimedf.loc[crimedf['Crime_type'] !=('HOMICIDE')]\n",
    "crimedf=crimedf.loc[crimedf['Crime_type'] !=('DISORDERLY')]\n",
    "crimedf=crimedf.loc[crimedf['Crime_type'] !=('HateCrim')]\n",
    "crimedf=crimedf.loc[crimedf['Crime_type'] !=('TRESPASS')]\n",
    "\n",
    "crimedf=crimedf.loc[crimedf['Crime_type'] !=('ARSON')]\n",
    "crimedf=crimedf.loc[crimedf['Crime_type'] !=('BurgTools')]\n",
    "crimedf=crimedf.loc[crimedf['Crime_type'] !=('Explos')]\n",
    "crimedf=crimedf.loc[crimedf['Crime_type'] !=('InvVeh')]\n",
    "crimedf=crimedf.loc[crimedf['Crime_type'] !=('Bomb')]\n",
    "crimedf=crimedf.loc[crimedf['Crime_type'] !=('Aircraft')]\n",
    "crimedf=crimedf.loc[crimedf['Crime_type'] !=('Labor')]\n",
    "crimedf=crimedf.loc[crimedf['Crime_type'] !=('Manslaug')]\n",
    "crimedf=crimedf.loc[crimedf['Crime_type'] !=('BioThreat')]\n",
    "crimedf=crimedf.loc[crimedf['Crime_type'] !=('Property Found')]\n",
    "crimedf=crimedf.loc[crimedf['Crime_type'] !=('Counterfeiting')]\n",
    "crimedf=crimedf.loc[crimedf['Crime_type'] !=('Verbal Disputes')]\n",
    "\n",
    "crimedf=crimedf.loc[crimedf['Crime_type'] !=('License Plate Related Incidents')]\n",
    "crimedf=crimedf.loc[crimedf['Crime_type'] !=('Motor Vehicle Accident Response')]\n",
    "crimedf=crimedf.loc[crimedf['Crime_type'] !=('Police Service Incidents')]\n",
    "crimedf=crimedf.loc[crimedf['Crime_type'] !=('Investigate Person')]\n",
    "crimedf=crimedf.loc[crimedf['Crime_type'] !=('Property Lost')]\n",
    "crimedf=crimedf.loc[crimedf['Crime_type'] !=('Towed')]\n",
    "crimedf=crimedf.loc[crimedf['Crime_type'] !=('Ballistics')]\n",
    "crimedf=crimedf.loc[crimedf['Crime_type'] !=('Disorderly Conduct')]\n",
    "crimedf=crimedf.loc[crimedf['Crime_type'] !=('Violations')]\n",
    "crimedf=crimedf.loc[crimedf['Crime_type'] !=('Recovered Stolen Property')]\n",
    "crimedf=crimedf.loc[crimedf['Crime_type'] !=('Assembly or Gathering Violations')]\n",
    "crimedf=crimedf.loc[crimedf['Crime_type'] !=('Confidence Games')]\n",
    "\n",
    "crimedf=crimedf.loc[crimedf['Crime_type'] !=('Investigate Property')]\n",
    "crimedf=crimedf.loc[crimedf['Crime_type'] !=('Missing Person Located')]\n",
    "crimedf=crimedf.loc[crimedf['Crime_type'] !=('Auto Theft Recovery')]\n",
    "crimedf=crimedf.loc[crimedf['Crime_type'] !=('Property Related Damage')]\n",
    "crimedf=crimedf.loc[crimedf['Crime_type'] !=('Search Warrants')]\n",
    "crimedf=crimedf.loc[crimedf['Crime_type'] !=('Evading Fare')]\n",
    "crimedf=crimedf.loc[crimedf['Crime_type'] !=('Bomb Hoax')]\n",
    "crimedf=crimedf.loc[crimedf['Crime_type'] !=('Homicide')]\n",
    "\n",
    "\n",
    "\n",
    "\n",
    "\n",
    "\n",
    "\n"
   ]
  },
  {
   "cell_type": "code",
   "execution_count": 36,
   "metadata": {
    "collapsed": false
   },
   "outputs": [
    {
     "name": "stdout",
     "output_type": "stream",
     "text": [
      "209515\n"
     ]
    }
   ],
   "source": [
    "print len(crimedf)\n",
    "crimedf=crimedf.reset_index()\n"
   ]
  },
  {
   "cell_type": "code",
   "execution_count": 37,
   "metadata": {
    "collapsed": false
   },
   "outputs": [
    {
     "name": "stdout",
     "output_type": "stream",
     "text": [
      "   index AreaCode            Crime_type     Day Hour\n",
      "0      0       D4  RESIDENTIAL BURGLARY  Sunday   06\n",
      "1      1       B2    AGGRAVATED ASSAULT  Sunday   06\n",
      "2      2       D4               ROBBERY  Sunday   06\n",
      "3      3       B2   COMMERCIAL BURGLARY  Sunday   06\n",
      "4      4      E18               ROBBERY  Sunday   07\n"
     ]
    }
   ],
   "source": [
    "print crimedf.head(n=5)"
   ]
  },
  {
   "cell_type": "code",
   "execution_count": 38,
   "metadata": {
    "collapsed": false
   },
   "outputs": [],
   "source": [
    "del crimedf['index']"
   ]
  },
  {
   "cell_type": "code",
   "execution_count": 39,
   "metadata": {
    "collapsed": false
   },
   "outputs": [],
   "source": [
    "for index, row in crimedf.iterrows():\n",
    "    if row['Crime_type'] in ('AGGRAVATED ASSAULT','SIMPLE ASSAULT','Simple Assault','Aggravated Assault','Indecent Assault'):\n",
    "        Assaultlist.append(1)\n",
    "    else:\n",
    "        Assaultlist.append(0)\n",
    "    if row['Crime_type'] in ('DRUG CHARGES','VIOLATION OF LIQUOR LAWS','Operating Under the Influence','OPERATING UNDER INFLUENCE','Drug Violation','PubDrink','Liquor Violation'):\n",
    "        DrugAlcohollist.append(1)\n",
    "    else:\n",
    "        DrugAlcohollist.append(0)\n",
    "    if row['Crime_type'] in ('RESIDENTIAL BURGLARY','COMMERCIAL BURGLARY','Commercial Burglary','Other Burglary','Residential Burglary'):\n",
    "        BurglaryCrimelist.append(1)\n",
    "    else:\n",
    "        BurglaryCrimelist.append(0)\n",
    "    \n",
    "    if row['Crime_type'] in ('DISORDERLY','PubDrink'):\n",
    "        PublicDisorderlist.append(1)\n",
    "    else:\n",
    "        PublicDisorderlist.append(0)\n",
    "    if row['Crime_type'] in ('AUTO THEFT','STOLEN PROPERTY CHARGES','ROBBERY','Auto Theft','Auto Theft Recovery','STOLEN PROPERTY CHARGES','Robbery'):\n",
    "        Theftlist.append(1)\n",
    "    else:\n",
    "        Theftlist.append(0)\n",
    "    if row['Crime_type'] in ('FRAUD','EMBEZELLMENT','Fraud','Embezzlement'):\n",
    "        WhiteCollarCrimelist.append(1)\n",
    "    else:\n",
    "        WhiteCollarCrimelist.append(0)\n",
    "    if row['Crime_type'] in ('Vandalism','VANDALISM'):\n",
    "        VandalismCrimelist.append(1)\n",
    "    else:\n",
    "        VandalismCrimelist.append(0)\n",
    "    if row['Crime_type'] in ('Arrest','Warrant Arrests','Prisoner Related Incidents'):\n",
    "        ArrestCrimelist.append(1)\n",
    "    else:\n",
    "        ArrestCrimelist.append(0)\n",
    "    if row['Crime_type'] in ('OTHER LARCENY','LARCENY FROM MOTOR VEHICLE','Larceny','Larceny From Motor Vehicle'):\n",
    "        LarcenyCrimelist.append(1)\n",
    "    else:\n",
    "        LarcenyCrimelist.append(0)\n",
    "    if row['Crime_type'] in ('Harass','Criminal Harassment'):\n",
    "        HarassmentCrimelist.append(1)\n",
    "    else:\n",
    "        HarassmentCrimelist.append(0)\n",
    "    if row['Crime_type'] in ('FIRE','Fire Related Reports','Firearm Discovery','Explosives','Firearm Violations'):\n",
    "        FireCrimelist.append(1)\n",
    "    else:\n",
    "        FireCrimelist.append(0)\n",
    "    if row['Crime_type'] in ('SexReg','Sex Offender Registration','Prostitution','PROSTITUTION CHARGES','Rape and Attempted'):\n",
    "        SexCrimelist.append(1)\n",
    "    else:\n",
    "        SexCrimelist.append(0)\n",
    "    if row['Crime_type'] in ('VAL','MedAssist','Harbor Related Incidents','Arson','License Violation','Landlord/Tenant Disputes','Restraining Order Violations','Offenses Against Child/Family','Missing Person Reported','Medical Assistance','Counterfeiting','Runaway','GAMBLING OFFENSE','FORGERY','InvPer','TOWED','WEAPONS CHARGE','PropLost','CRIMES AGAINST CHILDREN','PhoneCalls','OTHER','Other','PRISON'):\n",
    "        Othercrimeslist.append(1)\n",
    "    else:\n",
    "        Othercrimeslist.append(0)\n",
    "    if row['Hour'] in ('01','02','03','04'):\n",
    "        T1list.append(1)\n",
    "    else:\n",
    "        T1list.append(0)\n",
    "    if row['Hour'] in ('05','06','07','08'):\n",
    "        T2list.append(1)\n",
    "    else:\n",
    "        T2list.append(0)\n",
    "    if row['Hour'] in ('09','10','11','12'):\n",
    "        T3list.append(1)\n",
    "    else:\n",
    "        T3list.append(0)\n",
    "    if row['Hour'] in ('13','14','15','16'):\n",
    "        T4list.append(1)\n",
    "    else:\n",
    "        T4list.append(0)\n",
    "    if row['Hour'] in ('17','18','19','20'):\n",
    "        T5list.append(1)\n",
    "    else:\n",
    "        T5list.append(0)\n",
    "    if row['Hour'] in ('21','22','23','00'):\n",
    "        T6list.append(1)\n",
    "    else:\n",
    "        T6list.append(0)\n",
    "    if row['Day'] in ('Monday','Tuesday','Wednesday','Thursday'):\n",
    "        Weekdaylist.append(1)\n",
    "    else:\n",
    "        Weekdaylist.append(0)\n",
    "    if row['Day'] in ('Friday','Saturday','Sunday'):\n",
    "        Weekendlist.append(1)\n",
    "    else:\n",
    "        Weekendlist.append(0)"
   ]
  },
  {
   "cell_type": "code",
   "execution_count": 40,
   "metadata": {
    "collapsed": false
   },
   "outputs": [],
   "source": [
    "\n",
    "        \n",
    "crime_typedata={\"Assault\":Assaultlist,\"DrugAlcohol\":DrugAlcohollist,\"PublicDisorder\":PublicDisorderlist,\n",
    "               \"Theft\":Theftlist,\"WhiteCollarCrime\":WhiteCollarCrimelist,\"Othercrimes\":Othercrimeslist,\"Burglary\":BurglaryCrimelist,\n",
    "               \"Vandalism\":VandalismCrimelist,\"Arrest\":ArrestCrimelist,\"Larcency\":LarcenyCrimelist,\n",
    "               \"Harassment\":HarassmentCrimelist,\"Sex\":SexCrimelist,\"Fire\":FireCrimelist}\n",
    "\n",
    "\n",
    "crime_typedf=pd.DataFrame(crime_typedata)\n",
    "\n",
    "\n",
    "\n",
    "\n",
    "\n",
    "\n",
    "\n",
    "\n",
    "   \n",
    "   \n",
    "    \n",
    "        \n",
    "        \n",
    "        \n",
    "\n",
    "\n",
    "\n"
   ]
  },
  {
   "cell_type": "code",
   "execution_count": 41,
   "metadata": {
    "collapsed": false
   },
   "outputs": [],
   "source": [
    "\n",
    "\n",
    "\n",
    "\n",
    "Timedata={\"T1\":T1list,\"T2\":T2list,\"T3\":T3list,\"T4\":T4list,\"T5\":T5list,\"T6\":T6list,\n",
    "         \"Weekday\":Weekdaylist,\"Weekend\":Weekendlist}\n",
    "\n",
    "timedf=pd.DataFrame(Timedata)\n",
    "\n",
    "pd.options.mode.chained_assignment = None\n",
    "#print crimedf.Day.unique()\n",
    "\n",
    "df=crimedf[['AreaCode']]\n",
    "\n"
   ]
  },
  {
   "cell_type": "code",
   "execution_count": 42,
   "metadata": {
    "collapsed": false
   },
   "outputs": [],
   "source": [
    "df1 = pd.concat([df, crime_typedf], axis=1)\n",
    "Crimematrix = pd.concat([df1, timedf], axis=1)\n",
    "\n"
   ]
  },
  {
   "cell_type": "code",
   "execution_count": 43,
   "metadata": {
    "collapsed": false
   },
   "outputs": [],
   "source": [
    "Crimematrix1= Crimematrix .groupby(['AreaCode'])"
   ]
  },
  {
   "cell_type": "code",
   "execution_count": 44,
   "metadata": {
    "collapsed": false
   },
   "outputs": [
    {
     "name": "stdout",
     "output_type": "stream",
     "text": [
      "['AreaCode' 'Arrest' 'Assault' 'Burglary' 'DrugAlcohol' 'Fire' 'Harassment'\n",
      " 'Larcency' 'Othercrimes' 'PublicDisorder' 'Sex' 'Theft' 'Vandalism'\n",
      " 'WhiteCollarCrime' 'T1' 'T2' 'T3' 'T4' 'T5' 'T6' 'Weekday' 'Weekend']\n"
     ]
    }
   ],
   "source": [
    "print Crimematrix.columns.values"
   ]
  },
  {
   "cell_type": "code",
   "execution_count": 45,
   "metadata": {
    "collapsed": true
   },
   "outputs": [],
   "source": [
    "Area=[]\n",
    "TotalArrest=[]\n",
    "TotalAssault=[]\n",
    "TotalBurglary=[]\n",
    "TotalDrugAlcohol=[]\n",
    "TotalFire=[]\n",
    "TotalHarassment=[]\n",
    "TotalLarcency=[]\n",
    "TotalOthercrimes=[]\n",
    "TotalPublicDisorder=[]\n",
    "TotalSex=[]\n",
    "TotalTheft=[]\n",
    "TotalVandalism=[]\n",
    "TotalWhiteCollarCrime=[]\n",
    "TotalT1=[]\n",
    "TotalT2=[]\n",
    "TotalT3=[]\n",
    "TotalT4=[]\n",
    "TotalT5=[]\n",
    "TotalT6=[]\n",
    "TotalWeekday=[]\n",
    "TotalWeekend=[]\n",
    "\n"
   ]
  },
  {
   "cell_type": "code",
   "execution_count": 46,
   "metadata": {
    "collapsed": false
   },
   "outputs": [],
   "source": [
    "for a,b in Crimematrix1:\n",
    "    Area.append(a)\n",
    "    TotalArrest.append(b['Arrest'].sum())\n",
    "    TotalAssault.append(b['Assault'].sum())\n",
    "    TotalBurglary.append(b['Burglary'].sum())\n",
    "    TotalDrugAlcohol.append(b['DrugAlcohol'].sum())\n",
    "    TotalFire.append(b['Fire'].sum())\n",
    "    TotalHarassment.append(b['Harassment'].sum())\n",
    "    TotalLarcency.append(b['Larcency'].sum())\n",
    "    TotalOthercrimes.append(b['Othercrimes'].sum())\n",
    "    TotalPublicDisorder.append(b['PublicDisorder'].sum())\n",
    "    TotalSex.append(b['Sex'].sum())\n",
    "    TotalTheft.append(b['Theft'].sum())\n",
    "    TotalVandalism.append(b['Vandalism'].sum())\n",
    "    TotalWhiteCollarCrime.append(b['WhiteCollarCrime'].sum())\n",
    "    TotalT1.append(b['T1'].sum())\n",
    "    TotalT2.append(b['T2'].sum())\n",
    "    TotalT3.append(b['T3'].sum())\n",
    "    TotalT4.append(b['T4'].sum())\n",
    "    TotalT5.append(b['T5'].sum())\n",
    "    TotalT6.append(b['T6'].sum())\n",
    "    TotalWeekday.append(b['Weekday'].sum())\n",
    "    TotalWeekend.append(b['Weekend'].sum())\n",
    "    \n",
    "    "
   ]
  },
  {
   "cell_type": "code",
   "execution_count": 47,
   "metadata": {
    "collapsed": false
   },
   "outputs": [],
   "source": [
    "lregdata={\"AreaCode\":Area,\"Arrest\":TotalArrest,\"Assault\":TotalAssault,\"Burglary\":TotalBurglary,\n",
    "          \"DrugAlochol\":TotalDrugAlcohol,\"Fire\":TotalFire,\"Harassment\":TotalHarassment,\n",
    "          \"Larcency\":TotalLarcency,\"PublicDisorder\":TotalPublicDisorder,\n",
    "          \"Sex\":TotalSex,\"Theft\":TotalTheft,\"Vandalism\":TotalVandalism,\"WhiteCollar\":TotalWhiteCollarCrime,\n",
    "          \"T1\":TotalT1,\"T2\":TotalT2,\"T3\":TotalT3,\"T4\":TotalT4,\"T5\":TotalT5,\"T6\":TotalT6,\n",
    "          \"Weekday\":TotalWeekday,\"Weekend\":TotalWeekend,\"Other\":TotalOthercrimes}\n",
    "          "
   ]
  },
  {
   "cell_type": "code",
   "execution_count": 48,
   "metadata": {
    "collapsed": false
   },
   "outputs": [],
   "source": [
    "linerregdf=pd.DataFrame(lregdata)"
   ]
  },
  {
   "cell_type": "code",
   "execution_count": 49,
   "metadata": {
    "collapsed": false
   },
   "outputs": [],
   "source": [
    "linerregdf['TotalCrimes']=linerregdf['Arrest']+linerregdf['Assault']+linerregdf['Burglary']+linerregdf['DrugAlochol']+linerregdf['Fire']+linerregdf['Harassment']+linerregdf['Larcency']+linerregdf['PublicDisorder']+linerregdf['Sex']+linerregdf['Theft']+linerregdf['Vandalism']+linerregdf['WhiteCollar']+linerregdf['T1']+linerregdf['T2']+linerregdf['T3']+linerregdf['T4']+linerregdf['T5']+linerregdf['T6']+linerregdf['Weekday']+linerregdf['Weekend']+linerregdf['Other']"
   ]
  },
  {
   "cell_type": "code",
   "execution_count": 50,
   "metadata": {
    "collapsed": false
   },
   "outputs": [
    {
     "name": "stdout",
     "output_type": "stream",
     "text": [
      "   AreaCode  Arrest  Assault  Burglary  DrugAlochol  Fire  Harassment  \\\n",
      "0        A1     343     3086       515         1371   114          41   \n",
      "1       A15      32      471       130          195    47          10   \n",
      "2        A7     120     1257       438          961   133          26   \n",
      "3        B2     359     4126      1197         3207   303          37   \n",
      "4        B3     300     2808       830         1272   237          15   \n",
      "5       C11     314     3473      1125         2005   274          53   \n",
      "6        C6     167     1610       544         1636   150          26   \n",
      "7       D14      64     1454      1108          577   158          48   \n",
      "8        D4     184     3062      1107         1383   199          67   \n",
      "9       E13     106     1139       736          786   119          19   \n",
      "10      E18      76     1043       493          825   161          20   \n",
      "11       E5      59      817       467          784   123          31   \n",
      "12      HTU       0        0         0            0     0           0   \n",
      "\n",
      "    Larcency  Other  PublicDisorder     ...         T3    T4    T5    T6  \\\n",
      "0       6780   7907              74     ...       4848  4922  4869  4186   \n",
      "1        831   1904               4     ...        929   846  1096   844   \n",
      "2       1426   3896              44     ...       1837  2088  2455  1943   \n",
      "3       4263  11795             603     ...       6068  6262  7344  5656   \n",
      "4       1723   7582              24     ...       3486  3851  4209  3597   \n",
      "5       3562  10933              44     ...       5457  5329  5801  5330   \n",
      "6       2801   7013             129     ...       4110  3468  3425  2686   \n",
      "7       2412   6852              13     ...       3490  2758  3103  2837   \n",
      "8      10255  10230             145     ...       6648  6526  7106  5888   \n",
      "9       2090   4849              34     ...       2534  2637  2659  1997   \n",
      "10      1393   4905               6     ...       2452  2488  2396  1824   \n",
      "11      1441   4042               3     ...       2151  2187  2169  1555   \n",
      "12         0      3               0     ...          3     1     0     1   \n",
      "\n",
      "    Theft  Vandalism  Weekday  Weekend  WhiteCollar  TotalCrimes  \n",
      "0    1148       1009    12414    11053          953        70419  \n",
      "1     212        375     2524     1887          158        13195  \n",
      "2     660        935     5722     4479          301        30605  \n",
      "3    1984       2086    18135    12677         1119        92914  \n",
      "4    1073       1470    10616     7719          855        54893  \n",
      "5    1694       2107    15878    11156         1071        81012  \n",
      "6     653       1023     9346     7049          639        49253  \n",
      "7     534       1217     8475     6918          894        46142  \n",
      "8    1473       1531    17626    13479         1217        93395  \n",
      "9     651        769     6935     4875          492        35427  \n",
      "10    440        740     6375     4587          765        32809  \n",
      "11    335        695     5734     3847          691        28662  \n",
      "12      0          0        4        2            0           18  \n",
      "\n",
      "[13 rows x 23 columns]\n"
     ]
    }
   ],
   "source": [
    "print linerregdf"
   ]
  },
  {
   "cell_type": "code",
   "execution_count": 51,
   "metadata": {
    "collapsed": false
   },
   "outputs": [
    {
     "name": "stdout",
     "output_type": "stream",
     "text": [
      "(13, 12)\n",
      "(13, 1)\n",
      "                            OLS Regression Results                            \n",
      "==============================================================================\n",
      "Dep. Variable:            TotalCrimes   R-squared:                       1.000\n",
      "Model:                            OLS   Adj. R-squared:                  1.000\n",
      "Method:                 Least Squares   F-statistic:                 5.158e+09\n",
      "Date:                Mon, 25 Apr 2016   Prob (F-statistic):           1.09e-05\n",
      "Time:                        01:05:21   Log-Likelihood:                0.94924\n",
      "No. Observations:                  13   AIC:                             22.10\n",
      "Df Residuals:                       1   BIC:                             28.88\n",
      "Df Model:                          12                                         \n",
      "Covariance Type:            nonrobust                                         \n",
      "==================================================================================\n",
      "                     coef    std err          t      P>|t|      [95.0% Conf. Int.]\n",
      "----------------------------------------------------------------------------------\n",
      "Arrest             4.2771      0.086     49.758      0.013         3.185     5.369\n",
      "Assault            2.5170      0.015    169.775      0.004         2.329     2.705\n",
      "Burglary           2.6332      0.005    555.342      0.001         2.573     2.693\n",
      "DrugAlochol        2.9349      0.008    381.251      0.002         2.837     3.033\n",
      "Harassment        -7.6406      0.049   -156.432      0.004        -8.261    -7.020\n",
      "Larcency           3.0397      0.001   4190.941      0.000         3.031     3.049\n",
      "PublicDisorder     1.3134      0.027     48.773      0.013         0.971     1.656\n",
      "Sex                2.8042      0.016    174.472      0.004         2.600     3.008\n",
      "Theft              3.2933      0.005    615.779      0.001         3.225     3.361\n",
      "Vandalism          4.2427      0.014    313.097      0.002         4.071     4.415\n",
      "WhiteCollar        3.9988      0.008    471.484      0.001         3.891     4.107\n",
      "Other              2.9259      0.001   2574.802      0.000         2.911     2.940\n",
      "==============================================================================\n",
      "Omnibus:                       35.803   Durbin-Watson:                   1.065\n",
      "Prob(Omnibus):                  0.000   Jarque-Bera (JB):               56.295\n",
      "Skew:                           3.156   Prob(JB):                     5.96e-13\n",
      "Kurtosis:                      11.006   Cond. No.                     3.67e+03\n",
      "==============================================================================\n",
      "\n",
      "Warnings:\n",
      "[1] Standard Errors assume that the covariance matrix of the errors is correctly specified.\n",
      "[2] The condition number is large, 3.67e+03. This might indicate that there are\n",
      "strong multicollinearity or other numerical problems.\n"
     ]
    },
    {
     "name": "stderr",
     "output_type": "stream",
     "text": [
      "C:\\Users\\VINITKUMARGOUD\\Anaconda2\\lib\\site-packages\\scipy\\stats\\stats.py:1277: UserWarning: kurtosistest only valid for n>=20 ... continuing anyway, n=13\n",
      "  \"anyway, n=%i\" % int(n))\n"
     ]
    }
   ],
   "source": [
    "import statsmodels.api as sm\n",
    "import statsmodels.formula.api as smf\n",
    "\n",
    "X=linerregdf[['Arrest','Assault','Burglary','DrugAlochol','Harassment','Larcency','PublicDisorder','Sex','Theft','Vandalism','WhiteCollar','Other']]\n",
    "\n",
    "\n",
    "\n",
    "Y=linerregdf[['TotalCrimes']]\n",
    "\n",
    "print X.shape\n",
    "print Y.shape\n",
    "\n",
    "\n",
    "\n",
    "ols_model = sm.OLS(Y, X)\n",
    "ols_results = ols_model.fit()\n",
    "\n",
    "print(ols_results.summary())"
   ]
  },
  {
   "cell_type": "code",
   "execution_count": 52,
   "metadata": {
    "collapsed": false
   },
   "outputs": [
    {
     "name": "stdout",
     "output_type": "stream",
     "text": [
      "(13, 6)\n",
      "(13, 1)\n",
      "                            OLS Regression Results                            \n",
      "==============================================================================\n",
      "Dep. Variable:            TotalCrimes   R-squared:                       1.000\n",
      "Model:                            OLS   Adj. R-squared:                  1.000\n",
      "Method:                 Least Squares   F-statistic:                 6.676e+05\n",
      "Date:                Mon, 25 Apr 2016   Prob (F-statistic):           8.73e-20\n",
      "Time:                        01:05:22   Log-Likelihood:                -74.395\n",
      "No. Observations:                  13   AIC:                             160.8\n",
      "Df Residuals:                       7   BIC:                             164.2\n",
      "Df Model:                           6                                         \n",
      "Covariance Type:            nonrobust                                         \n",
      "==============================================================================\n",
      "                 coef    std err          t      P>|t|      [95.0% Conf. Int.]\n",
      "------------------------------------------------------------------------------\n",
      "T1             3.1397      0.103     30.625      0.000         2.897     3.382\n",
      "T2             2.9730      0.145     20.439      0.000         2.629     3.317\n",
      "T3             3.0901      0.108     28.735      0.000         2.836     3.344\n",
      "T4             2.5674      0.176     14.608      0.000         2.152     2.983\n",
      "T5             3.6401      0.156     23.294      0.000         3.271     4.010\n",
      "T6             2.5717      0.159     16.208      0.000         2.197     2.947\n",
      "==============================================================================\n",
      "Omnibus:                        1.869   Durbin-Watson:                   2.337\n",
      "Prob(Omnibus):                  0.393   Jarque-Bera (JB):                0.881\n",
      "Skew:                           0.052   Prob(JB):                        0.644\n",
      "Kurtosis:                       1.729   Cond. No.                         69.2\n",
      "==============================================================================\n",
      "\n",
      "Warnings:\n",
      "[1] Standard Errors assume that the covariance matrix of the errors is correctly specified.\n"
     ]
    }
   ],
   "source": [
    "import statsmodels.api as sm\n",
    "import statsmodels.formula.api as smf\n",
    "\n",
    "\n",
    "X=linerregdf[['T1','T2','T3','T4','T5','T6']]\n",
    "Y=linerregdf[['TotalCrimes']]\n",
    "\n",
    "print X.shape\n",
    "print Y.shape\n",
    "\n",
    "\n",
    "\n",
    "ols_model = sm.OLS(Y, X)\n",
    "ols_results = ols_model.fit()\n",
    "\n",
    "print(ols_results.summary())\n",
    "\n"
   ]
  },
  {
   "cell_type": "code",
   "execution_count": 53,
   "metadata": {
    "collapsed": false
   },
   "outputs": [
    {
     "name": "stdout",
     "output_type": "stream",
     "text": [
      "(13, 2)\n",
      "(13, 1)\n",
      "                            OLS Regression Results                            \n",
      "==============================================================================\n",
      "Dep. Variable:            TotalCrimes   R-squared:                       1.000\n",
      "Model:                            OLS   Adj. R-squared:                  1.000\n",
      "Method:                 Least Squares   F-statistic:                 9.627e+05\n",
      "Date:                Mon, 25 Apr 2016   Prob (F-statistic):           1.46e-29\n",
      "Time:                        01:05:23   Log-Likelihood:                -82.095\n",
      "No. Observations:                  13   AIC:                             168.2\n",
      "Df Residuals:                      11   BIC:                             169.3\n",
      "Df Model:                           2                                         \n",
      "Covariance Type:            nonrobust                                         \n",
      "==============================================================================\n",
      "                 coef    std err          t      P>|t|      [95.0% Conf. Int.]\n",
      "------------------------------------------------------------------------------\n",
      "Weekday        3.0382      0.047     64.029      0.000         2.934     3.143\n",
      "Weekend        2.9552      0.063     46.648      0.000         2.816     3.095\n",
      "==============================================================================\n",
      "Omnibus:                       14.102   Durbin-Watson:                   2.177\n",
      "Prob(Omnibus):                  0.001   Jarque-Bera (JB):                9.625\n",
      "Skew:                           1.564   Prob(JB):                      0.00813\n",
      "Kurtosis:                       5.825   Cond. No.                         26.1\n",
      "==============================================================================\n",
      "\n",
      "Warnings:\n",
      "[1] Standard Errors assume that the covariance matrix of the errors is correctly specified.\n"
     ]
    }
   ],
   "source": [
    "import statsmodels.api as sm\n",
    "import statsmodels.formula.api as smf\n",
    "\n",
    "\n",
    "X=linerregdf[['Weekday','Weekend']]\n",
    "Y=linerregdf[['TotalCrimes']]\n",
    "\n",
    "print X.shape\n",
    "print Y.shape\n",
    "\n",
    "\n",
    "\n",
    "ols_model = sm.OLS(Y, X)\n",
    "ols_results = ols_model.fit()\n",
    "\n",
    "print(ols_results.summary())\n"
   ]
  },
  {
   "cell_type": "code",
   "execution_count": 61,
   "metadata": {
    "collapsed": false
   },
   "outputs": [],
   "source": [
    "\n",
    "logregdf=linerregdf\n",
    "logregdf['SafePercentage']=100-((logregdf['TotalCrimes']/logregdf['TotalCrimes'].sum())*100)"
   ]
  },
  {
   "cell_type": "code",
   "execution_count": 65,
   "metadata": {
    "collapsed": true
   },
   "outputs": [],
   "source": [
    "def Exc(row):\n",
    "    if row['SafePercentage']>95:\n",
    "        return 1\n",
    "    else:\n",
    "        return 0"
   ]
  },
  {
   "cell_type": "code",
   "execution_count": 66,
   "metadata": {
    "collapsed": true
   },
   "outputs": [],
   "source": [
    "logregdf['Safe_Area'] = logregdf.apply (lambda row: Exc (row),axis=1)"
   ]
  },
  {
   "cell_type": "code",
   "execution_count": 75,
   "metadata": {
    "collapsed": false
   },
   "outputs": [
    {
     "name": "stdout",
     "output_type": "stream",
     "text": [
      "   AreaCode  Arrest  Assault  Burglary  DrugAlochol  Fire  Harassment  \\\n",
      "0        A1     343     3086       515         1371   114          41   \n",
      "1       A15      32      471       130          195    47          10   \n",
      "2        A7     120     1257       438          961   133          26   \n",
      "3        B2     359     4126      1197         3207   303          37   \n",
      "4        B3     300     2808       830         1272   237          15   \n",
      "5       C11     314     3473      1125         2005   274          53   \n",
      "6        C6     167     1610       544         1636   150          26   \n",
      "7       D14      64     1454      1108          577   158          48   \n",
      "8        D4     184     3062      1107         1383   199          67   \n",
      "9       E13     106     1139       736          786   119          19   \n",
      "10      E18      76     1043       493          825   161          20   \n",
      "11       E5      59      817       467          784   123          31   \n",
      "12      HTU       0        0         0            0     0           0   \n",
      "\n",
      "    Larcency  Other  PublicDisorder    ...        T5    T6  Theft  Vandalism  \\\n",
      "0       6780   7907              74    ...      4869  4186   1148       1009   \n",
      "1        831   1904               4    ...      1096   844    212        375   \n",
      "2       1426   3896              44    ...      2455  1943    660        935   \n",
      "3       4263  11795             603    ...      7344  5656   1984       2086   \n",
      "4       1723   7582              24    ...      4209  3597   1073       1470   \n",
      "5       3562  10933              44    ...      5801  5330   1694       2107   \n",
      "6       2801   7013             129    ...      3425  2686    653       1023   \n",
      "7       2412   6852              13    ...      3103  2837    534       1217   \n",
      "8      10255  10230             145    ...      7106  5888   1473       1531   \n",
      "9       2090   4849              34    ...      2659  1997    651        769   \n",
      "10      1393   4905               6    ...      2396  1824    440        740   \n",
      "11      1441   4042               3    ...      2169  1555    335        695   \n",
      "12         0      3               0    ...         0     1      0          0   \n",
      "\n",
      "    Weekday  Weekend  WhiteCollar  TotalCrimes  SafePercentage  Safe_Area  \n",
      "0     12414    11053          953        70419       88.800052          0  \n",
      "1      2524     1887          158        13195       97.901372          1  \n",
      "2      5722     4479          301        30605       95.132359          1  \n",
      "3     18135    12677         1119        92914       85.222284          0  \n",
      "4     10616     7719          855        54893       91.269420          0  \n",
      "5     15878    11156         1071        81012       87.115265          0  \n",
      "6      9346     7049          639        49253       92.166446          0  \n",
      "7      8475     6918          894        46142       92.661242          0  \n",
      "8     17626    13479         1217        93395       85.145783          0  \n",
      "9      6935     4875          492        35427       94.365433          0  \n",
      "10     6375     4587          765        32809       94.781819          0  \n",
      "11     5734     3847          691        28662       95.441388          1  \n",
      "12        4        2            0           18       99.997137          1  \n",
      "\n",
      "[13 rows x 25 columns]\n"
     ]
    }
   ],
   "source": [
    "print logregdf"
   ]
  },
  {
   "cell_type": "code",
   "execution_count": 76,
   "metadata": {
    "collapsed": false
   },
   "outputs": [
    {
     "data": {
      "text/html": [
       "<div>\n",
       "<table border=\"1\" class=\"dataframe\">\n",
       "  <thead>\n",
       "    <tr style=\"text-align: right;\">\n",
       "      <th></th>\n",
       "      <th>AreaCode</th>\n",
       "      <th>SafePercentage</th>\n",
       "      <th>Safe_Area</th>\n",
       "    </tr>\n",
       "  </thead>\n",
       "  <tbody>\n",
       "    <tr>\n",
       "      <th>0</th>\n",
       "      <td>A1</td>\n",
       "      <td>88.800052</td>\n",
       "      <td>0</td>\n",
       "    </tr>\n",
       "    <tr>\n",
       "      <th>1</th>\n",
       "      <td>A15</td>\n",
       "      <td>97.901372</td>\n",
       "      <td>1</td>\n",
       "    </tr>\n",
       "    <tr>\n",
       "      <th>2</th>\n",
       "      <td>A7</td>\n",
       "      <td>95.132359</td>\n",
       "      <td>1</td>\n",
       "    </tr>\n",
       "    <tr>\n",
       "      <th>3</th>\n",
       "      <td>B2</td>\n",
       "      <td>85.222284</td>\n",
       "      <td>0</td>\n",
       "    </tr>\n",
       "    <tr>\n",
       "      <th>4</th>\n",
       "      <td>B3</td>\n",
       "      <td>91.269420</td>\n",
       "      <td>0</td>\n",
       "    </tr>\n",
       "    <tr>\n",
       "      <th>5</th>\n",
       "      <td>C11</td>\n",
       "      <td>87.115265</td>\n",
       "      <td>0</td>\n",
       "    </tr>\n",
       "    <tr>\n",
       "      <th>6</th>\n",
       "      <td>C6</td>\n",
       "      <td>92.166446</td>\n",
       "      <td>0</td>\n",
       "    </tr>\n",
       "    <tr>\n",
       "      <th>7</th>\n",
       "      <td>D14</td>\n",
       "      <td>92.661242</td>\n",
       "      <td>0</td>\n",
       "    </tr>\n",
       "    <tr>\n",
       "      <th>8</th>\n",
       "      <td>D4</td>\n",
       "      <td>85.145783</td>\n",
       "      <td>0</td>\n",
       "    </tr>\n",
       "    <tr>\n",
       "      <th>9</th>\n",
       "      <td>E13</td>\n",
       "      <td>94.365433</td>\n",
       "      <td>0</td>\n",
       "    </tr>\n",
       "    <tr>\n",
       "      <th>10</th>\n",
       "      <td>E18</td>\n",
       "      <td>94.781819</td>\n",
       "      <td>0</td>\n",
       "    </tr>\n",
       "    <tr>\n",
       "      <th>11</th>\n",
       "      <td>E5</td>\n",
       "      <td>95.441388</td>\n",
       "      <td>1</td>\n",
       "    </tr>\n",
       "    <tr>\n",
       "      <th>12</th>\n",
       "      <td>HTU</td>\n",
       "      <td>99.997137</td>\n",
       "      <td>1</td>\n",
       "    </tr>\n",
       "  </tbody>\n",
       "</table>\n",
       "</div>"
      ],
      "text/plain": [
       "   AreaCode  SafePercentage  Safe_Area\n",
       "0        A1       88.800052          0\n",
       "1       A15       97.901372          1\n",
       "2        A7       95.132359          1\n",
       "3        B2       85.222284          0\n",
       "4        B3       91.269420          0\n",
       "5       C11       87.115265          0\n",
       "6        C6       92.166446          0\n",
       "7       D14       92.661242          0\n",
       "8        D4       85.145783          0\n",
       "9       E13       94.365433          0\n",
       "10      E18       94.781819          0\n",
       "11       E5       95.441388          1\n",
       "12      HTU       99.997137          1"
      ]
     },
     "execution_count": 76,
     "metadata": {},
     "output_type": "execute_result"
    }
   ],
   "source": [
    "res=logregdf[['AreaCode','SafePercentage','Safe_Area']]\n",
    "res"
   ]
  },
  {
   "cell_type": "code",
   "execution_count": 58,
   "metadata": {
    "collapsed": false
   },
   "outputs": [
    {
     "name": "stdout",
     "output_type": "stream",
     "text": [
      "Optimization terminated successfully.\n",
      "         Current function value: 0.250140\n",
      "         Iterations 10\n",
      "                           Logit Regression Results                           \n",
      "==============================================================================\n",
      "Dep. Variable:              Safe_Area   No. Observations:                   13\n",
      "Model:                          Logit   Df Residuals:                        7\n",
      "Method:                           MLE   Df Model:                            5\n",
      "Date:                Mon, 25 Apr 2016   Pseudo R-squ.:                  0.5947\n",
      "Time:                        01:05:27   Log-Likelihood:                -3.2518\n",
      "converged:                       True   LL-Null:                       -8.0241\n",
      "                                        LLR p-value:                   0.08921\n",
      "===============================================================================\n",
      "                  coef    std err          z      P>|z|      [95.0% Conf. Int.]\n",
      "-------------------------------------------------------------------------------\n",
      "Arrest          0.1016      0.140      0.726      0.468        -0.173     0.376\n",
      "Harassment      0.6262      0.641      0.977      0.328        -0.629     1.882\n",
      "Theft          -0.0186      0.033     -0.564      0.573        -0.083     0.046\n",
      "WhiteCollar    -0.0171      0.022     -0.769      0.442        -0.061     0.026\n",
      "Larcency       -0.0036      0.004     -0.933      0.351        -0.011     0.004\n",
      "Vandalism      -0.0027      0.013     -0.203      0.839        -0.028     0.023\n",
      "===============================================================================\n"
     ]
    }
   ],
   "source": [
    "\n",
    "X1=logregdf[['Arrest','Harassment','Theft','WhiteCollar','Larcency','Vandalism']]\n",
    "\n",
    "\n",
    "\n",
    "Y1=logregdf[['Safe_Area']]\n",
    "\n",
    "\n",
    "logit = sm.Logit(Y1,X1)\n",
    "result = logit.fit() \n",
    "\n",
    "print result.summary()"
   ]
  },
  {
   "cell_type": "code",
   "execution_count": 59,
   "metadata": {
    "collapsed": false
   },
   "outputs": [
    {
     "name": "stdout",
     "output_type": "stream",
     "text": [
      "Optimization terminated successfully.\n",
      "         Current function value: 0.066764\n",
      "         Iterations 14\n",
      "                           Logit Regression Results                           \n",
      "==============================================================================\n",
      "Dep. Variable:              Safe_Area   No. Observations:                   13\n",
      "Model:                          Logit   Df Residuals:                        7\n",
      "Method:                           MLE   Df Model:                            5\n",
      "Date:                Mon, 25 Apr 2016   Pseudo R-squ.:                  0.8918\n",
      "Time:                        01:05:27   Log-Likelihood:               -0.86793\n",
      "converged:                       True   LL-Null:                       -8.0241\n",
      "                                        LLR p-value:                   0.01374\n",
      "==============================================================================\n",
      "                 coef    std err          z      P>|z|      [95.0% Conf. Int.]\n",
      "------------------------------------------------------------------------------\n",
      "T1            -0.0717      0.251     -0.285      0.775        -0.564     0.421\n",
      "T2            -0.1182      0.208     -0.569      0.569        -0.525     0.289\n",
      "T3            -0.0340      0.280     -0.121      0.904        -0.584     0.516\n",
      "T4             0.0262      0.230      0.114      0.909        -0.424     0.477\n",
      "T5             0.1363      0.319      0.428      0.669        -0.488     0.761\n",
      "T6            -0.0764      0.441     -0.173      0.863        -0.941     0.788\n",
      "==============================================================================\n"
     ]
    }
   ],
   "source": [
    "\n",
    "X1=logregdf[['T1','T2','T3','T4','T5','T6']]\n",
    "\n",
    "\n",
    "Y1=logregdf[['Safe_Area']]\n",
    "\n",
    "\n",
    "logit = sm.Logit(Y1,X1)\n",
    "result = logit.fit() \n",
    "\n",
    "print result.summary()"
   ]
  },
  {
   "cell_type": "code",
   "execution_count": 60,
   "metadata": {
    "collapsed": false
   },
   "outputs": [
    {
     "name": "stdout",
     "output_type": "stream",
     "text": [
      "Optimization terminated successfully.\n",
      "         Current function value: 0.208583\n",
      "         Iterations 14\n",
      "                           Logit Regression Results                           \n",
      "==============================================================================\n",
      "Dep. Variable:              Safe_Area   No. Observations:                   13\n",
      "Model:                          Logit   Df Residuals:                        7\n",
      "Method:                           MLE   Df Model:                            5\n",
      "Date:                Mon, 25 Apr 2016   Pseudo R-squ.:                  0.6621\n",
      "Time:                        01:05:28   Log-Likelihood:                -2.7116\n",
      "converged:                       True   LL-Null:                       -8.0241\n",
      "                                        LLR p-value:                   0.05934\n",
      "==================================================================================\n",
      "                     coef    std err          z      P>|z|      [95.0% Conf. Int.]\n",
      "----------------------------------------------------------------------------------\n",
      "Assault           -0.0007      0.011     -0.068      0.945        -0.021     0.020\n",
      "Burglary          -0.0187      0.040     -0.464      0.643        -0.098     0.060\n",
      "DrugAlochol        0.0099      0.022      0.447      0.655        -0.034     0.053\n",
      "PublicDisorder     0.0013      0.234      0.005      0.996        -0.458     0.460\n",
      "Sex               -0.3288      0.414     -0.794      0.427        -1.141     0.483\n",
      "Other              0.0015      0.004      0.419      0.675        -0.006     0.009\n",
      "==================================================================================\n"
     ]
    }
   ],
   "source": [
    "X1=logregdf[['Assault','Burglary','DrugAlochol','PublicDisorder','Sex','Other']]\n",
    "\n",
    "\n",
    "\n",
    "Y1=logregdf[['Safe_Area']]\n",
    "\n",
    "\n",
    "logit = sm.Logit(Y1,X1)\n",
    "result = logit.fit() \n",
    "\n",
    "print result.summary()"
   ]
  },
  {
   "cell_type": "code",
   "execution_count": null,
   "metadata": {
    "collapsed": true
   },
   "outputs": [],
   "source": []
  },
  {
   "cell_type": "code",
   "execution_count": null,
   "metadata": {
    "collapsed": true
   },
   "outputs": [],
   "source": []
  },
  {
   "cell_type": "code",
   "execution_count": null,
   "metadata": {
    "collapsed": true
   },
   "outputs": [],
   "source": []
  },
  {
   "cell_type": "code",
   "execution_count": null,
   "metadata": {
    "collapsed": true
   },
   "outputs": [],
   "source": []
  }
 ],
 "metadata": {
  "kernelspec": {
   "display_name": "Python 2",
   "language": "python",
   "name": "python2"
  },
  "language_info": {
   "codemirror_mode": {
    "name": "ipython",
    "version": 2
   },
   "file_extension": ".py",
   "mimetype": "text/x-python",
   "name": "python",
   "nbconvert_exporter": "python",
   "pygments_lexer": "ipython2",
   "version": "2.7.11"
  }
 },
 "nbformat": 4,
 "nbformat_minor": 0
}
