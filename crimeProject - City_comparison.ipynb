{
 "cells": [
  {
   "cell_type": "markdown",
   "metadata": {
    "collapsed": true
   },
   "source": [
    "## City Crime Prediction Using Clustering and Classification Techniques"
   ]
  },
  {
   "cell_type": "markdown",
   "metadata": {},
   "source": [
    "Implement crime prediction final project for CS591-k1"
   ]
  },
  {
   "cell_type": "code",
   "execution_count": 1,
   "metadata": {
    "collapsed": true
   },
   "outputs": [],
   "source": [
    "import json\n",
    "import numpy as np\n",
    "import statsmodels.api as sm\n",
    "import matplotlib.pyplot as plt\n",
    "from statsmodels.sandbox.regression.predstd import wls_prediction_std\n",
    "\n",
    "import statsmodels.formula.api as smf\n",
    "import pandas\n",
    "import sklearn.datasets as sk_data\n",
    "import sklearn.metrics as metrics\n",
    "from sklearn.cluster import KMeans\n",
    "import pandas as pd\n",
    "\n",
    "import seaborn as sns\n",
    "%matplotlib inline\n"
   ]
  },
  {
   "cell_type": "code",
   "execution_count": 4,
   "metadata": {
    "collapsed": false,
    "scrolled": true
   },
   "outputs": [
    {
     "name": "stdout",
     "output_type": "stream",
     "text": [
      "268056\n"
     ]
    }
   ],
   "source": [
    "import json\n",
    "from pprint import pprint\n",
    "\n",
    "with open('boston-rows.json') as data_file:    \n",
    "    bostonjson = json.load(data_file)\n",
    "\n",
    "print len(bostonjson['data'])\n",
    "\n",
    "columnlist = []\n",
    "for col in bostonjson['meta']['view']['columns']:\n",
    "    columnlist.append(col['name'])\n",
    "\n",
    "    "
   ]
  },
  {
   "cell_type": "code",
   "execution_count": 5,
   "metadata": {
    "collapsed": false
   },
   "outputs": [
    {
     "name": "stdout",
     "output_type": "stream",
     "text": [
      "243750\n"
     ]
    }
   ],
   "source": [
    "import json\n",
    "from pprint import pprint\n",
    "\n",
    "with open('la-rows.json') as data_file:    \n",
    "    lajson = json.load(data_file)\n",
    "\n",
    "print len(lajson['data'])\n",
    "\n",
    "lacolumnlist = []\n",
    "for col in lajson['meta']['view']['columns']:\n",
    "    lacolumnlist.append(col['name'])\n"
   ]
  },
  {
   "cell_type": "markdown",
   "metadata": {},
   "source": [
    "    Row format= 0:sequence number, 8:id, 10: type, 12:district, 13:area, 14:date, 15:weapon type, 19:year, 20:month, 21:day of week, 26:lat,long"
   ]
  },
  {
   "cell_type": "code",
   "execution_count": 6,
   "metadata": {
    "collapsed": false
   },
   "outputs": [
    {
     "name": "stdout",
     "output_type": "stream",
     "text": [
      "1 120420285 RESIDENTIAL BURGLARY D4 629 2012-07-08T06:00:00 Other 2012 7 Sunday [None, u'42.34638135', u'-71.10379454', None, False]\n"
     ]
    }
   ],
   "source": [
    "print bostonjson['data'][0][0], bostonjson['data'][0][8], bostonjson['data'][0][10], bostonjson['data'][0][12], \n",
    "print bostonjson['data'][0][13], bostonjson['data'][0][14], bostonjson['data'][0][15], bostonjson['data'][0][19], \n",
    "print bostonjson['data'][0][20], bostonjson['data'][0][21], bostonjson['data'][0][27],"
   ]
  },
  {
   "cell_type": "code",
   "execution_count": 11,
   "metadata": {
    "collapsed": false
   },
   "outputs": [
    {
     "name": "stdout",
     "output_type": "stream",
     "text": [
      " 583917 2014-09-14T00:00:00 2014-09-14T00:00:00 12 77th Street 1205 888  5000      S  NORMANDIE                    AV\n"
     ]
    }
   ],
   "source": [
    "print lajson['data'][0][0], lajson['data'][0][8], lajson['data'][0][10], lajson['data'][0][12], \n",
    "print lajson['data'][0][13], lajson['data'][0][14], lajson['data'][0][15], lajson['data'][0][19], \n",
    "#print lajson['data'][0][20], lajson['data'][0][21], lajson['data'][0][27],"
   ]
  },
  {
   "cell_type": "code",
   "execution_count": 24,
   "metadata": {
    "collapsed": false
   },
   "outputs": [
    {
     "name": "stdout",
     "output_type": "stream",
     "text": [
      "2014-09-14T00:00:00\n"
     ]
    }
   ],
   "source": [
    "print lajson['data'][191][8]"
   ]
  },
  {
   "cell_type": "code",
   "execution_count": 12,
   "metadata": {
    "collapsed": false
   },
   "outputs": [
    {
     "name": "stdout",
     "output_type": "stream",
     "text": [
      "[u'sid', u'id', u'position', u'created_at', u'created_meta', u'updated_at', u'updated_meta', u'meta', u'COMPNOS', u'NatureCode', u'INCIDENT_TYPE_DESCRIPTION', u'MAIN_CRIMECODE', u'REPTDISTRICT', u'REPORTINGAREA', u'FROMDATE', u'WEAPONTYPE', u'Shooting', u'DOMESTIC', u'SHIFT', u'Year', u'Month', u'DAY_WEEK', u'UCRPART', u'X', u'Y', u'STREETNAME', u'XSTREETNAME', u'Location']\n",
      "  INCIDENT_TYPE_DESCRIPTION             FROMDATE  \\\n",
      "0      RESIDENTIAL BURGLARY  2012-07-08T06:00:00   \n",
      "1        AGGRAVATED ASSAULT  2012-07-08T06:03:00   \n",
      "2                   ROBBERY  2012-07-08T06:26:00   \n",
      "3       COMMERCIAL BURGLARY  2012-07-08T06:56:00   \n",
      "4                   ROBBERY  2012-07-08T07:15:00   \n",
      "\n",
      "                                         Location  \n",
      "0  [None, 42.34638135, -71.10379454, None, False]  \n",
      "1  [None, 42.31684135, -71.07458456, None, False]  \n",
      "2  [None, 42.34284135, -71.09698955, None, False]  \n",
      "3   [None, 42.3164411, -71.06582908, None, False]  \n",
      "4  [None, 42.27051636, -71.11989955, None, False]  \n"
     ]
    }
   ],
   "source": [
    "bostondf = pd.DataFrame(bostonjson['data'])\n",
    "bostondf.columns = columnlist\n",
    "print columnlist\n",
    "print bostondf.head()[['INCIDENT_TYPE_DESCRIPTION','FROMDATE','Location']]"
   ]
  },
  {
   "cell_type": "code",
   "execution_count": 25,
   "metadata": {
    "collapsed": false
   },
   "outputs": [
    {
     "name": "stdout",
     "output_type": "stream",
     "text": [
      "[u'sid', u'id', u'position', u'created_at', u'created_meta', u'updated_at', u'updated_meta', u'meta', u'Date Rptd', u'DR NO', u'DATE OCC', u'TIME OCC', u'AREA', u'AREA NAME', u'RD', u'Crm Cd', u'Crm Cd Desc', u'Status', u'Status Desc', u'LOCATION', u'Cross Street', u'Location 1']\n",
      "                             Crm Cd Desc     sid            Date Rptd\n",
      "0                            TRESPASSING  583917  2014-09-14T00:00:00\n",
      "1                            TRESPASSING  583918  2014-09-14T00:00:00\n",
      "2  SPOUSAL(COHAB) ABUSE - SIMPLE ASSAULT  583919  2014-09-14T00:00:00\n",
      "3                        BRANDISH WEAPON  583920  2014-09-14T00:00:00\n",
      "4                      THEFT OF IDENTITY  590386  2014-02-28T00:00:00\n"
     ]
    }
   ],
   "source": [
    "ladf = pd.DataFrame(lajson['data'])\n",
    "ladf.columns = lacolumnlist\n",
    "print lacolumnlist\n",
    "\n",
    "\n",
    "print ladf.head()[['Crm Cd Desc','sid','Date Rptd']]"
   ]
  },
  {
   "cell_type": "code",
   "execution_count": 47,
   "metadata": {
    "collapsed": false
   },
   "outputs": [
    {
     "name": "stdout",
     "output_type": "stream",
     "text": [
      "42.34638135\n",
      "268056 268056 268056 268056\n"
     ]
    }
   ],
   "source": [
    "print bostondf['Location'][0][1]\n",
    "latlist = map(lambda k: k[1], bostondf['Location'])\n",
    "longlist = map(lambda k: k[2], bostondf['Location'])\n",
    "\n",
    "typelist = map(lambda k: k, bostondf['INCIDENT_TYPE_DESCRIPTION'])\n",
    "hourlist = map(lambda k: k.split(\"T\")[1].split(\":\")[0], bostondf['FROMDATE'])\n",
    "daylist = map(lambda k: k, bostondf['DAY_WEEK'])\n",
    "yearlist = map(lambda k: k, bostondf['Year'])\n",
    "monthlist = map(lambda k: k, bostondf['Month'])\n",
    "\n",
    "print len(latlist), len(longlist), len(hourlist), len(yearlist)"
   ]
  },
  {
   "cell_type": "code",
   "execution_count": 26,
   "metadata": {
    "collapsed": false
   },
   "outputs": [
    {
     "name": "stdout",
     "output_type": "stream",
     "text": [
      "243750 243750 243750\n"
     ]
    }
   ],
   "source": [
    "latypelist = map(lambda k: k, ladf['Crm Cd Desc'])\n",
    "laidlist=map(lambda k: k, ladf['sid'])\n",
    "ladatelist=map(lambda k: k, ladf['Date Rptd'])\n",
    "print len(latypelist), len(laidlist), len(ladatelist)"
   ]
  },
  {
   "cell_type": "code",
   "execution_count": 52,
   "metadata": {
    "collapsed": false
   },
   "outputs": [
    {
     "name": "stdout",
     "output_type": "stream",
     "text": [
      "243750\n",
      "243750\n"
     ]
    }
   ],
   "source": [
    "layearlist=[]\n",
    "\n",
    "for i in ladatelist:\n",
    "    layearlist.append(i[:4])\n",
    "\n",
    "print len(layearlist)    \n",
    "\n",
    "lamonthlist=[]\n",
    "\n",
    "for i in ladatelist:\n",
    "    lamonthlist.append(i[5:-12])\n",
    "\n",
    "print len(layearlist) "
   ]
  },
  {
   "cell_type": "code",
   "execution_count": 54,
   "metadata": {
    "collapsed": false
   },
   "outputs": [],
   "source": [
    "lacrimedata={\"Year\":layearlist,\"Crime_Type\":latypelist,\"Month\":lamonthlist}"
   ]
  },
  {
   "cell_type": "code",
   "execution_count": 55,
   "metadata": {
    "collapsed": false
   },
   "outputs": [
    {
     "name": "stdout",
     "output_type": "stream",
     "text": [
      "                              Crime_Type Month  Year\n",
      "0                            TRESPASSING    09  2014\n",
      "1                            TRESPASSING    09  2014\n",
      "2  SPOUSAL(COHAB) ABUSE - SIMPLE ASSAULT    09  2014\n",
      "3                        BRANDISH WEAPON    09  2014\n",
      "4                      THEFT OF IDENTITY    02  2014\n",
      "[u'2014']\n"
     ]
    }
   ],
   "source": [
    "lacrimedf=pd.DataFrame(lacrimedata)\n",
    "print lacrimedf.head()\n",
    "print lacrimedf.Year.unique()\n"
   ]
  },
  {
   "cell_type": "code",
   "execution_count": 56,
   "metadata": {
    "collapsed": true
   },
   "outputs": [],
   "source": [
    "bostoncrimedata={\"Year\":yearlist ,\"Month\":monthlist,\"Crime_Type\":typelist}"
   ]
  },
  {
   "cell_type": "code",
   "execution_count": 57,
   "metadata": {
    "collapsed": false
   },
   "outputs": [
    {
     "name": "stdout",
     "output_type": "stream",
     "text": [
      "             Crime_Type Month  Year\n",
      "0  RESIDENTIAL BURGLARY     7  2012\n",
      "1    AGGRAVATED ASSAULT     7  2012\n",
      "2               ROBBERY     7  2012\n",
      "3   COMMERCIAL BURGLARY     7  2012\n",
      "4               ROBBERY     7  2012\n",
      "[u'2012' u'2013' u'2014' u'2015']\n"
     ]
    }
   ],
   "source": [
    "bostoncrimedf=pd.DataFrame(bostoncrimedata)\n",
    "print bostoncrimedf.head()\n",
    "print bostoncrimedf.Year.unique()"
   ]
  },
  {
   "cell_type": "code",
   "execution_count": 58,
   "metadata": {
    "collapsed": true
   },
   "outputs": [],
   "source": [
    "bostoncrimedf=bostoncrimedf.loc[bostoncrimedf['Year'] ==('2014')]"
   ]
  },
  {
   "cell_type": "code",
   "execution_count": 59,
   "metadata": {
    "collapsed": false
   },
   "outputs": [
    {
     "name": "stdout",
     "output_type": "stream",
     "text": [
      "243750\n",
      "88058\n"
     ]
    }
   ],
   "source": [
    "print len(lacrimedf)\n",
    "print len(bostoncrimedf)"
   ]
  },
  {
   "cell_type": "code",
   "execution_count": 64,
   "metadata": {
    "collapsed": false
   },
   "outputs": [
    {
     "name": "stdout",
     "output_type": "stream",
     "text": [
      "           Crime_Type Month  Year\n",
      "130238     AUTO THEFT     1  2014\n",
      "130239       PropLost     1  2014\n",
      "130240         InvPer     1  2014\n",
      "130241  OTHER LARCENY     1  2014\n",
      "130242       PropLost     1  2014\n"
     ]
    }
   ],
   "source": [
    "print bostoncrimedf.head()"
   ]
  },
  {
   "cell_type": "code",
   "execution_count": 65,
   "metadata": {
    "collapsed": true
   },
   "outputs": [],
   "source": [
    "del bostoncrimedf['Year']\n",
    "del lacrimedf['Year']"
   ]
  },
  {
   "cell_type": "code",
   "execution_count": 66,
   "metadata": {
    "collapsed": false
   },
   "outputs": [
    {
     "name": "stdout",
     "output_type": "stream",
     "text": [
      "           Crime_Type Month\n",
      "130238     AUTO THEFT     1\n",
      "130239       PropLost     1\n",
      "130240         InvPer     1\n",
      "130241  OTHER LARCENY     1\n",
      "130242       PropLost     1\n"
     ]
    }
   ],
   "source": [
    "print bostoncrimedf.head()"
   ]
  },
  {
   "cell_type": "code",
   "execution_count": 67,
   "metadata": {
    "collapsed": true
   },
   "outputs": [],
   "source": [
    "lamonth= lacrimedf .groupby(['Month'])\n",
    "bostonmonth= bostoncrimedf .groupby(['Month'])"
   ]
  },
  {
   "cell_type": "code",
   "execution_count": 83,
   "metadata": {
    "collapsed": true
   },
   "outputs": [],
   "source": [
    "mlist=[]\n",
    "tlist=[]"
   ]
  },
  {
   "cell_type": "code",
   "execution_count": 84,
   "metadata": {
    "collapsed": false
   },
   "outputs": [],
   "source": [
    "for a,b in lamonth:\n",
    "    mlist.append(a)\n",
    "    tlist.append(b['Crime_Type'].count())\n",
    "    \n"
   ]
  },
  {
   "cell_type": "code",
   "execution_count": 85,
   "metadata": {
    "collapsed": false
   },
   "outputs": [
    {
     "name": "stdout",
     "output_type": "stream",
     "text": [
      "12 12\n"
     ]
    }
   ],
   "source": [
    "print len(mlist), len(tlist)"
   ]
  },
  {
   "cell_type": "code",
   "execution_count": 109,
   "metadata": {
    "collapsed": false
   },
   "outputs": [
    {
     "name": "stdout",
     "output_type": "stream",
     "text": [
      "    LA_Number_of_Crimes Month\n",
      "0                 19169    01\n",
      "1                 17384    02\n",
      "2                 19730    03\n",
      "3                 19413    04\n",
      "4                 20645    05\n",
      "5                 20494    06\n",
      "6                 21480    07\n",
      "7                 21280    08\n",
      "8                 21287    09\n",
      "9                 21669    10\n",
      "10                19844    11\n",
      "11                21355    12\n"
     ]
    }
   ],
   "source": [
    "lmdata={\"Month\":mlist,\"LA_Number_of_Crimes\":tlist}\n",
    "lmdf=pd.DataFrame(lmdata)\n",
    "print lmdf"
   ]
  },
  {
   "cell_type": "code",
   "execution_count": 102,
   "metadata": {
    "collapsed": true
   },
   "outputs": [],
   "source": [
    "bmlist=[]\n",
    "btlist=[]"
   ]
  },
  {
   "cell_type": "code",
   "execution_count": 103,
   "metadata": {
    "collapsed": true
   },
   "outputs": [],
   "source": [
    "for a,b in bostonmonth:\n",
    "    bmlist.append(a)\n",
    "    btlist.append(b['Crime_Type'].count())"
   ]
  },
  {
   "cell_type": "code",
   "execution_count": 106,
   "metadata": {
    "collapsed": true
   },
   "outputs": [],
   "source": [
    "bmolist=[]\n",
    "\n",
    "for i in bmlist:\n",
    "    if i not in ('10','11','12'):\n",
    "        bmolist.append(\"0\"+i)\n",
    "    else:\n",
    "        bmolist.append(i)\n"
   ]
  },
  {
   "cell_type": "code",
   "execution_count": 110,
   "metadata": {
    "collapsed": false
   },
   "outputs": [
    {
     "name": "stdout",
     "output_type": "stream",
     "text": [
      "    Boston_Number_of_Crimes Month\n",
      "0                      7112    01\n",
      "1                      7863    10\n",
      "2                      6757    11\n",
      "3                      6723    12\n",
      "4                      6118    02\n",
      "5                      7175    03\n",
      "6                      7136    04\n",
      "7                      8222    05\n",
      "8                      7794    06\n",
      "9                      7766    07\n",
      "10                     7746    08\n",
      "11                     7646    09\n"
     ]
    }
   ],
   "source": [
    "bmdata={\"Month\":bmolist,\"Boston_Number_of_Crimes\":btlist}\n",
    "bmdf=pd.DataFrame(bmdata)\n",
    "print bmdf"
   ]
  },
  {
   "cell_type": "code",
   "execution_count": 115,
   "metadata": {
    "collapsed": false
   },
   "outputs": [],
   "source": [
    "monthdf = pd.merge(lmdf,bmdf, on='Month', how='outer')\n"
   ]
  },
  {
   "cell_type": "code",
   "execution_count": 123,
   "metadata": {
    "collapsed": false
   },
   "outputs": [
    {
     "name": "stdout",
     "output_type": "stream",
     "text": [
      "    LA_Number_of_Crimes Month  Boston_Number_of_Crimes\n",
      "0                 19169    01                     7112\n",
      "1                 17384    02                     6118\n",
      "2                 19730    03                     7175\n",
      "3                 19413    04                     7136\n",
      "4                 20645    05                     8222\n",
      "5                 20494    06                     7794\n",
      "6                 21480    07                     7766\n",
      "7                 21280    08                     7746\n",
      "8                 21287    09                     7646\n",
      "9                 21669    10                     7863\n",
      "10                19844    11                     6757\n",
      "11                21355    12                     6723\n"
     ]
    }
   ],
   "source": [
    "print monthdf"
   ]
  },
  {
   "cell_type": "code",
   "execution_count": 203,
   "metadata": {
    "collapsed": false
   },
   "outputs": [
    {
     "data": {
      "image/png": "[encoded data removed]",
      "text/plain": [
       "<matplotlib.figure.Figure at 0xaa28ddd8>"
      ]
     },
     "metadata": {},
     "output_type": "display_data"
    }
   ],
   "source": [
    "import matplotlib.pyplot as plt\n",
    "ax = monthdf[['Boston_Number_of_Crimes','LA_Number_of_Crimes']].plot(kind='bar', title =\"Monthly number of crimes in the year 2014\",figsize=(8,8),legend=True, fontsize=12)\n",
    "ax.set_xlabel(\"Month\",fontsize=12)\n",
    "ax.set_ylabel(\"Number_of_Crimes\",fontsize=12)\n",
    "\n",
    "plt.xticks(range(12),['Jan', 'Feb','Mar','Apr','May','Jun','Jul','Aug','Sep','Oct','Nov','Dec'])\n",
    "plt.show()"
   ]
  },
  {
   "cell_type": "code",
   "execution_count": 151,
   "metadata": {
    "collapsed": false
   },
   "outputs": [
    {
     "name": "stdout",
     "output_type": "stream",
     "text": [
      "[u'TRESPASSING' u'SPOUSAL(COHAB) ABUSE - SIMPLE ASSAULT' u'BRANDISH WEAPON'\n",
      " u'THEFT OF IDENTITY' u'SEX, UNLAWFUL' u'ROBBERY'\n",
      " u'BATTERY - SIMPLE ASSAULT' u'VANDALISM - MISDEAMEANOR ($399 OR UNDER)'\n",
      " u'THEFT PLAIN - PETTY ($950 & UNDER)' u'TRAFFIC DR #' u'VEHICLE - STOLEN'\n",
      " u'BIKE - STOLEN' u'CRIMINAL THREATS - NO WEAPON DISPLAYED'\n",
      " u'THEFT-GRAND ($950.01 & OVER)EXCPT,GUNS,FOWL,LIVESTK,PROD'\n",
      " u'DOCUMENT FORGERY / STOLEN FELONY' u'LETTERS, LEWD'\n",
      " u'THEFT FROM MOTOR VEHICLE - GRAND ($400 AND OVER)' u'BURGLARY'\n",
      " u'ASSAULT WITH DEADLY WEAPON, AGGRAVATED ASSAULT' u'ATTEMPTED ROBBERY'\n",
      " u'VANDALISM - FELONY ($400 & OVER, ALL CHURCH VANDALISMS)'\n",
      " u'BATTERY WITH SEXUAL CONTACT' u'VIOLATION OF RESTRAINING ORDER'\n",
      " u'BATTERY POLICE' u'BURGLARY FROM VEHICLE'\n",
      " u'BURGLARY FROM VEHICLE, ATTEMPTED' u'BURGLARY, ATTEMPTED'\n",
      " u'SPOUSAL (COHAB) ABUSE - AGGRAVATED ASSAULT'\n",
      " u'SHOPLIFTING - PETTY THEFT ($950 & UNDER)'\n",
      " u'THEFT FROM MOTOR VEHICLE - PETTY ($950.01 & OVER)'\n",
      " u'VIOLATION OF COURT ORDER' u'OTHER MISCELLANEOUS CRIME'\n",
      " u'BUNCO, GRAND THEFT' u'RESISTING ARREST' u'ARSON'\n",
      " u'THREATENING PHONE CALLS/LETTERS' u'RAPE, FORCIBLE'\n",
      " u'CHILD, CRIME AGAINST' u'KIDNAPPING' u'BUNCO, PETTY THEFT'\n",
      " u'THEFT FROM MOTOR VEHICLE - ATTEMPT' u'ILLEGAL DUMPING'\n",
      " u'CRUELTY TO ANIMALS' u'EMBEZZLEMENT, GRAND THEFT ($950.01 & OVER)'\n",
      " u'DISTURBING THE PEACE' u'CRIMINAL HOMICIDE'\n",
      " u'ASSAULT WITH DEADLY WEAPON ON POLICE OFFICER'\n",
      " u'CHILD NEGLECT (SEE 300 W.I.C.)' u'FALSE IMPRISONMENT'\n",
      " u'CHILD ABUSE (PHYSICAL) - SIMPLE ASSAULT' u'THEFT, PERSON'\n",
      " u'CHILD STEALING' u'CHILD ENDANGERMENT/NEG.' u'INDECENT EXPOSURE'\n",
      " u'SHOPLIFTING-GRAND THEFT ($950.01 & OVER)'\n",
      " u'SEXUAL PENTRATION WITH A FOREIGN OBJECT' u'LEWD CONDUCT'\n",
      " u'OTHER ASSAULT' u'SHOTS FIRED AT INHABITED DWELLING' u'BUNCO, ATTEMPT'\n",
      " u'CHILD ABUSE (PHYSICAL) - AGGRAVATED ASSAULT' u'VEHICLE - ATTEMPT STOLEN'\n",
      " u'DISCHARGE FIREARMS/SHOTS FIRED' u'COUNTERFEIT' u'RAPE, ATTEMPTED'\n",
      " u'VIOLATION OF TEMPORARY RESTRAINING ORDER' u'EXTORTION'\n",
      " u'DRIVING WITHOUT OWNER CONSENT (DWOC)'\n",
      " u'SODOMY/SEXUAL CONTACT B/W PENIS OF ONE PERS TO ANUS OTH' u'PEEPING TOM'\n",
      " u'PICKPOCKET' u'RECKLESS DRIVING'\n",
      " u'CREDIT CARDS, FRAUD USE ($950.01 & OVER)'\n",
      " u'DOCUMENT WORTHLESS ($200.01 & OVER)' u'KIDNAPPING - GRAND ATTEMPT'\n",
      " u'PROWLER' u'UNAUTHORIZED COMPUTER ACCESS' u'FAILURE TO DISPERSE'\n",
      " u'DEFRAUDING INNKEEPER/THEFT OF SERVICES, $400 & UNDER' u'STALKING'\n",
      " u'THROWING OBJECT AT MOVING VEHICLE' u'BOMB SCARE'\n",
      " u'EMBEZZLEMENT, PETTY THEFT ($950 & UNDER)' u'PURSE SNATCHING'\n",
      " u'SEX OFFENDER REGISTRANT INCIDENT' u'WEAPONS POSSESSION/BOMBING'\n",
      " u'THEFT PLAIN - ATTEMPT' u'THEFT, COIN MACHINE - PETTY ($950 & UNDER)'\n",
      " u'BOAT - STOLEN' u'FALSE POLICE REPORT' u'ORAL COPULATION' u'PANDERING'\n",
      " u'SHOPLIFTING - ATTEMPT' u'LYNCHING' u'CONTEMPT OF COURT'\n",
      " u'THREATS, VERBAL/TERRORIST' u'PIMPING' u'BATTERY ON A FIREFIGHTER'\n",
      " u'PROPERTY MISSING RVD VEH - GRAND THEFT ($950.01 & OVER)'\n",
      " u'PROPERTY MISSING RVD VEH - PETTY ($950 & UNDER)' u'CHILD ABANDONMENT'\n",
      " u'CREDIT CARDS, FRAUD USE ($950 & UNDER' u'THEFT FROM PERSON - ATTEMPT'\n",
      " u'DISHONEST EMPLOYEE ATTEMPTED THEFT' u'TILL TAP - PETTY ($950 & UNDER)'\n",
      " u'CONTRIBUTING' u'DEFRAUDING INNKEEPER/THEFT OF SERVICES, OVER $400'\n",
      " u'TILL TAP - GRAND THEFT ($950.01 & OVER)'\n",
      " u'THEFT, COIN MACHINE - GRAND ($950.01 & OVER)' u'DRUGS, TO A MINOR'\n",
      " u'GRAND THEFT / AUTO REPAIR' u'LYNCHING - ATTEMPTED'\n",
      " u'TELEPHONE PROPERTY - DAMAGE' u'BIGAMY' u'FAILURE TO YIELD'\n",
      " u'BIKE - ATTEMPTED STOLEN' u'DISHONEST EMPLOYEE - GRAND THEFT'\n",
      " u'CONSPIRACY' u'SHOTS FIRED AT MOVING VEHICLE, TRAIN OR AIRCRAFT'\n",
      " u'DISHONEST EMPLOYEE - PETTY THEFT'\n",
      " u'BEASTIALITY, CRIME AGAINST NATURE SEXUAL ASSLT WITH ANIM'\n",
      " u'PETTY THEFT - AUTO REPAIR' u'BRIBERY'\n",
      " u'REPLICA FIREARMS(SALE,DISPLAY,MANUFACTURE OR DISTRIBUTE)'\n",
      " u'DISRUPT SCHOOL' u'GRAND THEFT / INSURANCE FRAUD'\n",
      " u'PURSE SNATCHING - ATTEMPT' u'THEFT, COIN MACHINE - ATTEMPT']\n"
     ]
    }
   ],
   "source": [
    "print lacrimedf.Crime_Type.unique()"
   ]
  },
  {
   "cell_type": "code",
   "execution_count": 163,
   "metadata": {
    "collapsed": false
   },
   "outputs": [
    {
     "name": "stdout",
     "output_type": "stream",
     "text": [
      "                        Crime_Type Month\n",
      "130238                  AUTO THEFT     1\n",
      "130239                    PropLost     1\n",
      "130240                      InvPer     1\n",
      "130241               OTHER LARCENY     1\n",
      "130242                    PropLost     1\n",
      "130243                    PropLost     1\n",
      "130244              SIMPLE ASSAULT     1\n",
      "130245                         VAL     1\n",
      "130246                  PhoneCalls     1\n",
      "130247                      InvPer     1\n",
      "130248                    PropLost     1\n",
      "130249                    PropLost     1\n",
      "130250                      InvPer     1\n",
      "130251               OTHER LARCENY     1\n",
      "130252                    PersMiss     1\n",
      "130253              SIMPLE ASSAULT     1\n",
      "130254              WEAPONS CHARGE     1\n",
      "130255                   VANDALISM     1\n",
      "130256                     InvProp     1\n",
      "130257                  PhoneCalls     1\n",
      "130258               OTHER LARCENY     1\n",
      "130259               OTHER LARCENY     1\n",
      "130260                     LICViol     1\n",
      "130261              SIMPLE ASSAULT     1\n",
      "130262                   MedAssist     1\n",
      "130263                   MedAssist     1\n",
      "130264              SIMPLE ASSAULT     1\n",
      "130265                   VANDALISM     1\n",
      "130266                   VANDALISM     1\n",
      "130267                         VAL     1\n",
      "130268               OTHER LARCENY     1\n",
      "130269                   MedAssist     1\n",
      "130270                   PropFound     1\n",
      "130271                   MedAssist     1\n",
      "130272              SIMPLE ASSAULT     1\n",
      "130273                         VAL     1\n",
      "130274    VIOLATION OF LIQUOR LAWS     1\n",
      "130275        RESIDENTIAL BURGLARY     1\n",
      "130276              SIMPLE ASSAULT     1\n",
      "130277               OTHER LARCENY     1\n",
      "130278                  AUTO THEFT     1\n",
      "130279                      InvPer     1\n",
      "130280                     LICViol     1\n",
      "130281          AGGRAVATED ASSAULT     1\n",
      "130282                    PubDrink     1\n",
      "130283               OTHER LARCENY     1\n",
      "130284                    PropLost     1\n",
      "130285  LARCENY FROM MOTOR VEHICLE     1\n",
      "130286                    PropLost     1\n",
      "130287          AGGRAVATED ASSAULT     1\n"
     ]
    }
   ],
   "source": [
    "print bostoncrimedf.head(n=50)"
   ]
  },
  {
   "cell_type": "code",
   "execution_count": null,
   "metadata": {
    "collapsed": false
   },
   "outputs": [],
   "source": []
  },
  {
   "cell_type": "code",
   "execution_count": 142,
   "metadata": {
    "collapsed": true
   },
   "outputs": [],
   "source": [
    "theftlist=[]\n",
    "assaultlist=[]"
   ]
  },
  {
   "cell_type": "code",
   "execution_count": 143,
   "metadata": {
    "collapsed": false
   },
   "outputs": [],
   "source": [
    "for index, row in lacrimedf.iterrows():\n",
    "    if 'THEFT' in row['Crime_Type']:\n",
    "        theftlist.append(1)\n",
    "    else:\n",
    "        theftlist.append(0)\n",
    "    if 'ASSAULT' in row['Crime_Type']:\n",
    "        assaultlist.append(1)\n",
    "    else:\n",
    "        assaultlist.append(0)"
   ]
  },
  {
   "cell_type": "code",
   "execution_count": 144,
   "metadata": {
    "collapsed": false
   },
   "outputs": [
    {
     "name": "stdout",
     "output_type": "stream",
     "text": [
      "    Assault  Theft\n",
      "0         0      0\n",
      "1         0      0\n",
      "2         1      0\n",
      "3         0      0\n",
      "4         0      1\n",
      "5         0      0\n",
      "6         0      1\n",
      "7         0      0\n",
      "8         1      0\n",
      "9         0      0\n",
      "10        0      1\n",
      "11        0      0\n",
      "12        0      0\n",
      "13        0      0\n",
      "14        1      0\n",
      "15        0      0\n",
      "16        1      0\n",
      "17        0      0\n",
      "18        1      0\n",
      "19        0      0\n"
     ]
    }
   ],
   "source": [
    "lactdata={\"Theft\":theftlist,\"Assault\":assaultlist}\n",
    "lactdf=pd.DataFrame(lactdata)\n",
    "print lactdf.head(n=20)"
   ]
  },
  {
   "cell_type": "code",
   "execution_count": 147,
   "metadata": {
    "collapsed": true
   },
   "outputs": [],
   "source": [
    "LA_Assault=lactdf['Assault'].sum()\n",
    "LA_Theft=lactdf['Theft'].sum()"
   ]
  },
  {
   "cell_type": "code",
   "execution_count": 148,
   "metadata": {
    "collapsed": false
   },
   "outputs": [
    {
     "name": "stdout",
     "output_type": "stream",
     "text": [
      "40634 55817\n"
     ]
    }
   ],
   "source": [
    "print LA_Assault, LA_Theft"
   ]
  },
  {
   "cell_type": "code",
   "execution_count": 180,
   "metadata": {
    "collapsed": true
   },
   "outputs": [],
   "source": [
    "btheftlist=[]\n",
    "bassaultlist=[]"
   ]
  },
  {
   "cell_type": "code",
   "execution_count": 181,
   "metadata": {
    "collapsed": true
   },
   "outputs": [],
   "source": [
    "for index, row in bostoncrimedf.iterrows():\n",
    "    if 'theft'in row['Crime_Type'].lower():\n",
    "        btheftlist.append(1)\n",
    "    else:\n",
    "        btheftlist.append(0)\n",
    "    if 'assault'in row['Crime_Type'].lower():\n",
    "        bassaultlist.append(1)\n",
    "    else:\n",
    "        bassaultlist.append(0)"
   ]
  },
  {
   "cell_type": "code",
   "execution_count": 182,
   "metadata": {
    "collapsed": false
   },
   "outputs": [
    {
     "name": "stdout",
     "output_type": "stream",
     "text": [
      "    Assault  Theft\n",
      "0         0      1\n",
      "1         0      0\n",
      "2         0      0\n",
      "3         0      0\n",
      "4         0      0\n",
      "5         0      0\n",
      "6         1      0\n",
      "7         0      0\n",
      "8         0      0\n",
      "9         0      0\n",
      "10        0      0\n",
      "11        0      0\n",
      "12        0      0\n",
      "13        0      0\n",
      "14        0      0\n",
      "15        1      0\n",
      "16        0      0\n",
      "17        0      0\n",
      "18        0      0\n",
      "19        0      0\n"
     ]
    }
   ],
   "source": [
    "boctdata={\"Theft\":btheftlist,\"Assault\":bassaultlist}\n",
    "boctdf=pd.DataFrame(boctdata)\n",
    "print boctdf.head(n=20)"
   ]
  },
  {
   "cell_type": "code",
   "execution_count": 183,
   "metadata": {
    "collapsed": true
   },
   "outputs": [],
   "source": [
    "BOSTON_Assault=boctdf['Assault'].sum()\n",
    "BOSTON_Theft=boctdf['Theft'].sum()"
   ]
  },
  {
   "cell_type": "code",
   "execution_count": 184,
   "metadata": {
    "collapsed": false
   },
   "outputs": [
    {
     "name": "stdout",
     "output_type": "stream",
     "text": [
      "7946 1603\n"
     ]
    }
   ],
   "source": [
    "print BOSTON_Assault, BOSTON_Theft"
   ]
  },
  {
   "cell_type": "code",
   "execution_count": 196,
   "metadata": {
    "collapsed": false
   },
   "outputs": [],
   "source": [
    "bclist=[]\n",
    "lclist=[]\n",
    "clist=[]"
   ]
  },
  {
   "cell_type": "code",
   "execution_count": 197,
   "metadata": {
    "collapsed": false
   },
   "outputs": [],
   "source": [
    "bclist.append(BOSTON_Assault)\n",
    "lclist.append(LA_Assault)\n",
    "bclist.append(BOSTON_Theft)\n",
    "lclist.append(LA_Theft)\n",
    "clist.append('Assalult')\n",
    "clist.append('Theft')"
   ]
  },
  {
   "cell_type": "code",
   "execution_count": 198,
   "metadata": {
    "collapsed": false
   },
   "outputs": [
    {
     "name": "stdout",
     "output_type": "stream",
     "text": [
      "   Boston Crime_Type     LA\n",
      "0    7946   Assalult  40634\n",
      "1    1603      Theft  55817\n"
     ]
    }
   ],
   "source": [
    "tcdata={\"Crime_Type\":clist,\"Boston\":bclist,\"LA\":lclist}\n",
    "tcdf=pd.DataFrame(tcdata)\n",
    "print tcdf"
   ]
  },
  {
   "cell_type": "code",
   "execution_count": 204,
   "metadata": {
    "collapsed": false
   },
   "outputs": [
    {
     "data": {
      "image/png": "[encoded data removed]",
      "text/plain": [
       "<matplotlib.figure.Figure at 0xaa197b00>"
      ]
     },
     "metadata": {},
     "output_type": "display_data"
    }
   ],
   "source": [
    "import matplotlib.pyplot as plt\n",
    "ax = tcdf[['Boston','LA']].plot(kind='bar', title =\"Comparison of type of crimes in the year 2014\",figsize=(8,8),legend=True, fontsize=12)\n",
    "ax.set_xlabel(\"Crime_Type\",fontsize=12)\n",
    "ax.set_ylabel(\"Number_of_Crimes\",fontsize=12)\n",
    "\n",
    "plt.xticks(range(2),['Assalult', 'Theft'])\n",
    "plt.show()"
   ]
  },
  {
   "cell_type": "code",
   "execution_count": null,
   "metadata": {
    "collapsed": true
   },
   "outputs": [],
   "source": []
  }
 ],
 "metadata": {
  "kernelspec": {
   "display_name": "Python 2",
   "language": "python",
   "name": "python2"
  },
  "language_info": {
   "codemirror_mode": {
    "name": "ipython",
    "version": 2
   },
   "file_extension": ".py",
   "mimetype": "text/x-python",
   "name": "python",
   "nbconvert_exporter": "python",
   "pygments_lexer": "ipython2",
   "version": "2.7.11"
  }
 },
 "nbformat": 4,
 "nbformat_minor": 0
}
