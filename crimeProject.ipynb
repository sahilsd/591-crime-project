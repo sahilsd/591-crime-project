{
 "cells": [
  {
   "cell_type": "markdown",
   "metadata": {
    "collapsed": true
   },
   "source": [
    "## City Crime Prediction Using Clustering and Classification Techniques"
   ]
  },
  {
   "cell_type": "markdown",
   "metadata": {},
   "source": [
    "Implement crime prediction final project for CS591-k1"
   ]
  },
  {
   "cell_type": "code",
   "execution_count": 25,
   "metadata": {
    "collapsed": true
   },
   "outputs": [],
   "source": [
    "import json\n",
    "import numpy as np\n",
    "import statsmodels.api as sm\n",
    "import matplotlib.pyplot as plt\n",
    "from statsmodels.sandbox.regression.predstd import wls_prediction_std\n",
    "\n",
    "import statsmodels.formula.api as smf\n",
    "import pandas\n",
    "import sklearn.datasets as sk_data\n",
    "import sklearn.metrics as metrics\n",
    "from sklearn.cluster import KMeans\n",
    "import pandas as pd\n",
    "\n",
    "import seaborn as sns\n",
    "%matplotlib inline\n"
   ]
  },
  {
   "cell_type": "code",
   "execution_count": 32,
   "metadata": {
    "collapsed": false,
    "scrolled": true
   },
   "outputs": [
    {
     "name": "stdout",
     "output_type": "stream",
     "text": [
      "8647\n"
     ]
    }
   ],
   "source": [
    "import json\n",
    "from pprint import pprint\n",
    "\n",
    "with open('boston-rows.json.10000') as data_file:    \n",
    "    bostonjson = json.load(data_file)\n",
    "\n",
    "print len(bostonjson['data'])\n",
    "\n",
    "columnlist = []\n",
    "for col in bostonjson['meta']['view']['columns']:\n",
    "    columnlist.append(col['name'])\n",
    "\n",
    "    "
   ]
  },
  {
   "cell_type": "markdown",
   "metadata": {},
   "source": [
    "    Row format= 0:sequence number, 8:id, 10: type, 12:district, 13:area, 14:date, 15:weapon type, 19:year, 20:month, 21:day of week, 26:lat,long"
   ]
  },
  {
   "cell_type": "code",
   "execution_count": 47,
   "metadata": {
    "collapsed": false
   },
   "outputs": [
    {
     "name": "stdout",
     "output_type": "stream",
     "text": [
      "1 120420285 RESIDENTIAL BURGLARY D4 629 2012-07-08T06:00:00 Other 2012 7 Sunday [None, u'42.34638135', u'-71.10379454', None, False]\n"
     ]
    }
   ],
   "source": [
    "print bostonjson['data'][0][0], bostonjson['data'][0][8], bostonjson['data'][0][10], bostonjson['data'][0][12], \n",
    "print bostonjson['data'][0][13], bostonjson['data'][0][14], bostonjson['data'][0][15], bostonjson['data'][0][19], \n",
    "print bostonjson['data'][0][20], bostonjson['data'][0][21], bostonjson['data'][0][27],"
   ]
  },
  {
   "cell_type": "code",
   "execution_count": 45,
   "metadata": {
    "collapsed": false
   },
   "outputs": [
    {
     "name": "stdout",
     "output_type": "stream",
     "text": [
      "[u'sid', u'id', u'position', u'created_at', u'created_meta', u'updated_at', u'updated_meta', u'meta', u'COMPNOS', u'NatureCode', u'INCIDENT_TYPE_DESCRIPTION', u'MAIN_CRIMECODE', u'REPTDISTRICT', u'REPORTINGAREA', u'FROMDATE', u'WEAPONTYPE', u'Shooting', u'DOMESTIC', u'SHIFT', u'Year', u'Month', u'DAY_WEEK', u'UCRPART', u'X', u'Y', u'STREETNAME', u'XSTREETNAME', u'Location']\n",
      "  INCIDENT_TYPE_DESCRIPTION             FROMDATE  \\\n",
      "0      RESIDENTIAL BURGLARY  2012-07-08T06:00:00   \n",
      "1        AGGRAVATED ASSAULT  2012-07-08T06:03:00   \n",
      "2                   ROBBERY  2012-07-08T06:26:00   \n",
      "3       COMMERCIAL BURGLARY  2012-07-08T06:56:00   \n",
      "4                   ROBBERY  2012-07-08T07:15:00   \n",
      "\n",
      "                                         Location  \n",
      "0  [None, 42.34638135, -71.10379454, None, False]  \n",
      "1  [None, 42.31684135, -71.07458456, None, False]  \n",
      "2  [None, 42.34284135, -71.09698955, None, False]  \n",
      "3   [None, 42.3164411, -71.06582908, None, False]  \n",
      "4  [None, 42.27051636, -71.11989955, None, False]  \n"
     ]
    }
   ],
   "source": [
    "bostondf = pd.DataFrame(bostonjson['data'])\n",
    "bostondf.columns = columnlist\n",
    "print columnlist\n",
    "print bostondf.head()[['INCIDENT_TYPE_DESCRIPTION','FROMDATE','Location']]"
   ]
  },
  {
   "cell_type": "code",
   "execution_count": 109,
   "metadata": {
    "collapsed": false
   },
   "outputs": [
    {
     "name": "stdout",
     "output_type": "stream",
     "text": [
      "42.34638135\n",
      "8647 8647 8647\n"
     ]
    }
   ],
   "source": [
    "print bostondf['Location'][0][1]\n",
    "latlist = map(lambda k: k[1], bostondf['Location'])\n",
    "longlist = map(lambda k: k[2], bostondf['Location'])\n",
    "\n",
    "typelist = map(lambda k: k, bostondf['INCIDENT_TYPE_DESCRIPTION'])\n",
    "hourlist = map(lambda k: k.split(\"T\")[1].split(\":\")[0], bostondf['FROMDATE'])\n",
    "daylist = map(lambda k: k, bostondf['DAY_WEEK'])\n",
    "\n",
    "print len(latlist), len(longlist), len(hourlist)"
   ]
  },
  {
   "cell_type": "code",
   "execution_count": 110,
   "metadata": {
    "collapsed": false
   },
   "outputs": [
    {
     "name": "stdout",
     "output_type": "stream",
     "text": [
      "        lat      long\n",
      "0  0.998872  0.001011\n",
      "1  0.998175  0.001422\n",
      "2  0.998788  0.001107\n",
      "3  0.998165  0.001545\n",
      "4  0.997082  0.000785\n"
     ]
    },
    {
     "data": {
      "image/png": "[encoded data removed]",
      "text/plain": [
       "<matplotlib.figure.Figure at 0x7f096e95f890>"
      ]
     },
     "metadata": {},
     "output_type": "display_data"
    }
   ],
   "source": [
    "from sklearn import preprocessing as prep\n",
    "import warnings\n",
    "from sklearn.feature_extraction.text import CountVectorizer\n",
    "from scipy.cluster.vq import kmeans,vq\n",
    "import collections\n",
    "\n",
    "warnings.filterwarnings(\"ignore\")        \n",
    "\n",
    "vector = CountVectorizer(min_df=1)\n",
    "typevec = vector.fit_transform(typelist)\n",
    "hourvec = vector.fit_transform(hourlist)\n",
    "dayvec = vector.fit_transform(daylist)\n",
    "\n",
    "#print typevec\n",
    "\n",
    "crimetypedf = pd.DataFrame({'lat':latlist, 'long':longlist})\n",
    "crimetypedf[['lat','long']] = crimetypedf[['lat','long']].apply(lambda k: prep.MinMaxScaler().fit_transform(k))\n",
    "\n",
    "print crimetypedf.head()\n",
    "crimetypematrix = crimetypedf.as_matrix()\n",
    "kmeans=KMeans(init='k-means++',n_clusters=8, n_init=10)\n",
    "kmeans.fit_predict(crimetypematrix)\n",
    "centroids = kmeans.cluster_centers_\n",
    "\n",
    "crimevq = vq(crimetypematrix, centroids)[0]\n",
    "bostonclusters = [[] for i in range(len(crimevq))]\n",
    "\n",
    "for item, clustN in zip(crimetypematrix, crimevq):\n",
    "    #store the cluster for categ/attr and cluster number\n",
    "    bostonclusters[clustN].append(item)\n",
    "\n",
    "#cl = bostonclusters[0]\n",
    "#for cl in bostonclusters:\n",
    "#legends=plt.scatter([item[0] for item in cl],[item[1] for item in cl],marker='o', color=(1,random.uniform(0.2,0.5), 0.0), alpha=0.6)\n",
    "            \n",
    "plt.xlabel('Latitude')\n",
    "plt.ylabel('Longitude')\n",
    "\n",
    "plt.title(\"KMeans++\")\n",
    "plt.show()"
   ]
  },
  {
   "cell_type": "code",
   "execution_count": null,
   "metadata": {
    "collapsed": true
   },
   "outputs": [],
   "source": []
  }
 ],
 "metadata": {
  "kernelspec": {
   "display_name": "Python 2",
   "language": "python",
   "name": "python2"
  },
  "language_info": {
   "codemirror_mode": {
    "name": "ipython",
    "version": 2
   },
   "file_extension": ".py",
   "mimetype": "text/x-python",
   "name": "python",
   "nbconvert_exporter": "python",
   "pygments_lexer": "ipython2",
   "version": "2.7.11"
  }
 },
 "nbformat": 4,
 "nbformat_minor": 0
}
