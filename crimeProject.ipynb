{
 "cells": [
  {
   "cell_type": "markdown",
   "metadata": {
    "collapsed": true
   },
   "source": [
    "## City Crime Prediction Using Clustering and Classification Techniques"
   ]
  },
  {
   "cell_type": "markdown",
   "metadata": {},
   "source": [
    "Implement crime prediction final project for CS591-k1"
   ]
  },
  {
   "cell_type": "code",
   "execution_count": 1,
   "metadata": {
    "collapsed": true
   },
   "outputs": [],
   "source": [
    "import json\n",
    "import numpy as np\n",
    "import statsmodels.api as sm\n",
    "import matplotlib.pyplot as plt\n",
    "from statsmodels.sandbox.regression.predstd import wls_prediction_std\n",
    "\n",
    "import statsmodels.formula.api as smf\n",
    "import pandas\n",
    "import sklearn.datasets as sk_data\n",
    "import sklearn.metrics as metrics\n",
    "from sklearn.cluster import KMeans\n",
    "import pandas as pd\n",
    "\n",
    "import seaborn as sns\n",
    "%matplotlib inline\n"
   ]
  },
  {
   "cell_type": "code",
   "execution_count": 2,
   "metadata": {
    "collapsed": false,
    "scrolled": true
   },
   "outputs": [
    {
     "name": "stdout",
     "output_type": "stream",
     "text": [
      "268056\n"
     ]
    }
   ],
   "source": [
    "import json\n",
    "from pprint import pprint\n",
    "\n",
    "with open('boston-rows.json') as data_file:    \n",
    "    bostonjson = json.load(data_file)\n",
    "\n",
    "print len(bostonjson['data'])\n",
    "\n",
    "columnlist = []\n",
    "for col in bostonjson['meta']['view']['columns']:\n",
    "    columnlist.append(col['name'])\n",
    "\n",
    "    "
   ]
  },
  {
   "cell_type": "markdown",
   "metadata": {},
   "source": [
    "    Row format= 0:sequence number, 8:id, 10: type, 12:district, 13:area, 14:date, 15:weapon type, 19:year, 20:month, 21:day of week, 26:lat,long"
   ]
  },
  {
   "cell_type": "code",
   "execution_count": 3,
   "metadata": {
    "collapsed": false
   },
   "outputs": [
    {
     "name": "stdout",
     "output_type": "stream",
     "text": [
      "1 120420285 RESIDENTIAL BURGLARY D4 629 2012-07-08T06:00:00 Other 2012 7 Sunday [None, u'42.34638135', u'-71.10379454', None, False]\n"
     ]
    }
   ],
   "source": [
    "print bostonjson['data'][0][0], bostonjson['data'][0][8], bostonjson['data'][0][10], bostonjson['data'][0][12], \n",
    "print bostonjson['data'][0][13], bostonjson['data'][0][14], bostonjson['data'][0][15], bostonjson['data'][0][19], \n",
    "print bostonjson['data'][0][20], bostonjson['data'][0][21], bostonjson['data'][0][27],"
   ]
  },
  {
   "cell_type": "code",
   "execution_count": 4,
   "metadata": {
    "collapsed": false
   },
   "outputs": [
    {
     "name": "stdout",
     "output_type": "stream",
     "text": [
      "[u'sid', u'id', u'position', u'created_at', u'created_meta', u'updated_at', u'updated_meta', u'meta', u'COMPNOS', u'NatureCode', u'INCIDENT_TYPE_DESCRIPTION', u'MAIN_CRIMECODE', u'REPTDISTRICT', u'REPORTINGAREA', u'FROMDATE', u'WEAPONTYPE', u'Shooting', u'DOMESTIC', u'SHIFT', u'Year', u'Month', u'DAY_WEEK', u'UCRPART', u'X', u'Y', u'STREETNAME', u'XSTREETNAME', u'Location']\n",
      "  INCIDENT_TYPE_DESCRIPTION             FROMDATE  \\\n",
      "0      RESIDENTIAL BURGLARY  2012-07-08T06:00:00   \n",
      "1        AGGRAVATED ASSAULT  2012-07-08T06:03:00   \n",
      "2                   ROBBERY  2012-07-08T06:26:00   \n",
      "3       COMMERCIAL BURGLARY  2012-07-08T06:56:00   \n",
      "4                   ROBBERY  2012-07-08T07:15:00   \n",
      "\n",
      "                                         Location  \n",
      "0  [None, 42.34638135, -71.10379454, None, False]  \n",
      "1  [None, 42.31684135, -71.07458456, None, False]  \n",
      "2  [None, 42.34284135, -71.09698955, None, False]  \n",
      "3   [None, 42.3164411, -71.06582908, None, False]  \n",
      "4  [None, 42.27051636, -71.11989955, None, False]  \n"
     ]
    }
   ],
   "source": [
    "bostondf = pd.DataFrame(bostonjson['data'])\n",
    "bostondf.columns = columnlist\n",
    "print columnlist\n",
    "print bostondf.head()[['INCIDENT_TYPE_DESCRIPTION','FROMDATE','Location']]"
   ]
  },
  {
   "cell_type": "code",
   "execution_count": 5,
   "metadata": {
    "collapsed": false
   },
   "outputs": [
    {
     "name": "stdout",
     "output_type": "stream",
     "text": [
      "42.34638135\n",
      "268056 268056 268056\n"
     ]
    }
   ],
   "source": [
    "print bostondf['Location'][0][1]\n",
    "latlist = map(lambda k: k[1], bostondf['Location'])\n",
    "longlist = map(lambda k: k[2], bostondf['Location'])\n",
    "\n",
    "typelist = map(lambda k: k, bostondf['INCIDENT_TYPE_DESCRIPTION'])\n",
    "hourlist = map(lambda k: k.split(\"T\")[1].split(\":\")[0], bostondf['FROMDATE'])\n",
    "daylist = map(lambda k: k, bostondf['DAY_WEEK'])\n",
    "\n",
    "print len(latlist), len(longlist), len(hourlist)"
   ]
  },
  {
   "cell_type": "markdown",
   "metadata": {},
   "source": [
    "### Dump parsed data to file for prediction model"
   ]
  },
  {
   "cell_type": "code",
   "execution_count": 24,
   "metadata": {
    "collapsed": false
   },
   "outputs": [
    {
     "name": "stdout",
     "output_type": "stream",
     "text": [
      "127\n"
     ]
    }
   ],
   "source": [
    "from collections import Counter\n",
    "import random\n",
    "\n",
    "typeCnt = Counter(typelist)\n",
    "print len(typeCnt)\n",
    "\n",
    "bostonParseTimefd1 = open(\"data/Boston-parse-time.dat.input\", \"w\")\n",
    "bostonParseTimefd2 = open(\"data/Boston-parse-time.dat.trainerr\", \"w\")\n",
    "\n",
    "bostonParseTypefd1 = open(\"data/Boston-parse-type.dat.input\", \"w\")\n",
    "bostonParseTypefd2 = open(\"data/Boston-parse-type.dat.trainerr\", \"w\")\n",
    "\n",
    "bostonTestPair = open(\"data/Boston-parse-time.dat.testpair\", \"w\")\n",
    "SEED = 1\n",
    "for i in xrange(len(bostonjson['data'])):\n",
    "    SEED *= 10\n",
    "    random.seed(SEED*10%1023)\n",
    "    if bostonjson['data'][i][12] != None and bostonjson['data'][i][12]!='NULL' :\n",
    "        if random.randint(0,99)%10:\n",
    "            if random.randint(0,99)%10 in range(0,7):\n",
    "                bostonParseTimefd1.write(bostonjson['data'][i][12]+\"::\"+daylist[i]+\"::\"+str(int(hourlist[i][1])/4)+\"\\n\")\n",
    "                bostonParseTypefd1.write(bostonjson['data'][i][12]+\"::\"+daylist[i]+\"::\"+str(typeCnt.keys().index(typelist[i]))+\"\\n\")\n",
    "            else:\n",
    "                bostonParseTimefd2.write(bostonjson['data'][i][12]+\"::\"+daylist[i]+\"::\"+str(int(hourlist[i][1])/4)+\"\\n\")\n",
    "                bostonParseTypefd2.write(bostonjson['data'][i][12]+\"::\"+daylist[i]+\"::\"+str(typeCnt.keys().index(typelist[i]))+\"\\n\")\n",
    "        else:\n",
    "            bostonTestPair.write(bostonjson['data'][i][12]+\"::\"+daylist[i]+\"\\n\")\n",
    "            \n",
    "            \n",
    "bostonParseTimefd1.close()\n",
    "bostonParseTypefd1.close()\n",
    "bostonParseTimefd2.close()\n",
    "bostonParseTypefd2.close()\n",
    "\n",
    "bostonTestPair.close()"
   ]
  },
  {
   "cell_type": "code",
   "execution_count": 88,
   "metadata": {
    "collapsed": false
   },
   "outputs": [
    {
     "name": "stdout",
     "output_type": "stream",
     "text": [
      "                Latitude          Longitude  Assault  DrugAlcohol  \\\n",
      "0            42.34638135       -71.10379454        0            0   \n",
      "1            42.31684135       -71.07458456        1            0   \n",
      "2            42.34284135       -71.09698955        0            0   \n",
      "3             42.3164411       -71.06582908        0            0   \n",
      "4            42.27051636       -71.11989955        0            0   \n",
      "5            42.31328183        -71.0530059        0            0   \n",
      "6            42.32425136       -71.08620956        0            0   \n",
      "7            42.34924634       -71.06378456        1            0   \n",
      "8            42.35174635       -71.16590953        0            0   \n",
      "9            42.25938275       -71.11729354        0            0   \n",
      "10           42.34180635       -71.09707955        0            0   \n",
      "11            42.3092417       -71.05033304        0            0   \n",
      "12           42.34924634       -71.06378456        0            0   \n",
      "13           42.33490135       -71.07516956        0            0   \n",
      "14           42.35973634       -71.06796956        0            0   \n",
      "15           42.34456135       -71.13768454        0            0   \n",
      "16           42.36179134       -71.05277456        0            0   \n",
      "17           42.33637135       -71.04348957        0            0   \n",
      "18           42.32170135       -71.08190956        0            0   \n",
      "19           42.33747731       -71.08062448        0            0   \n",
      "20           42.32220635       -71.08208955        0            0   \n",
      "21           42.31900788       -71.07964071        0            0   \n",
      "22           42.30972244       -71.10427304        0            1   \n",
      "23           42.31757135       -71.07794956        0            0   \n",
      "24           42.35168135       -71.12518954        0            0   \n",
      "25            42.2751208       -71.11599434        0            0   \n",
      "26           42.33394861       -71.07537988        1            0   \n",
      "27           42.28813781        -71.0948495        0            0   \n",
      "28           42.30147136       -71.07512956        0            0   \n",
      "29           42.26504136       -71.10888455        0            0   \n",
      "...                  ...                ...      ...          ...   \n",
      "268026               0.0                0.0        0            0   \n",
      "268027               0.0                0.0        0            0   \n",
      "268028               0.0                0.0        0            0   \n",
      "268029               0.0                0.0        0            0   \n",
      "268030               0.0                0.0        0            0   \n",
      "268031               0.0                0.0        0            0   \n",
      "268032               0.0                0.0        0            0   \n",
      "268033  42.2544291487256  -71.1263254029292        0            0   \n",
      "268034  42.3471019595485  -71.0884174639258        0            0   \n",
      "268035   42.313537439781  -71.0592491369932        0            0   \n",
      "268036   42.327885155974  -71.0777063344597        0            0   \n",
      "268037  42.3525598061323  -71.0604320748137        0            0   \n",
      "268038  42.3497411219262  -71.0580161668553        0            0   \n",
      "268039  42.3561882950239   -71.157516013201        0            0   \n",
      "268040  42.3370123518876  -71.0292626647894        0            0   \n",
      "268041  42.3799762727114  -71.0669285555264        0            0   \n",
      "268042  42.3242256148624   -71.052426080488        0            0   \n",
      "268043  42.3457334920051    -71.10008092795        0            0   \n",
      "268044  42.3778267170466  -71.0695008018073        0            0   \n",
      "268045  42.3250286936206  -71.0734144739058        0            0   \n",
      "268046  42.2894332314595  -71.0605219025923        0            0   \n",
      "268047               0.0                0.0        0            0   \n",
      "268048               0.0                0.0        0            0   \n",
      "268049               0.0                0.0        0            0   \n",
      "268050               0.0                0.0        0            0   \n",
      "268051               0.0                0.0        0            0   \n",
      "268052               0.0                0.0        0            0   \n",
      "268053               0.0                0.0        0            0   \n",
      "268054               0.0                0.0        0            0   \n",
      "268055               0.0                0.0        0            0   \n",
      "\n",
      "        Othercrimes  PublicDisorder  Theft  WhiteCollarCrime  T1  T2  T3  T4  \\\n",
      "0                 1               0      0                 0   0   1   0   0   \n",
      "1                 0               0      0                 0   0   1   0   0   \n",
      "2                 1               0      0                 0   0   1   0   0   \n",
      "3                 1               0      0                 0   0   1   0   0   \n",
      "4                 1               0      0                 0   0   1   0   0   \n",
      "5                 1               0      0                 0   0   1   0   0   \n",
      "6                 1               0      0                 0   0   1   0   0   \n",
      "7                 0               0      0                 0   0   1   0   0   \n",
      "8                 1               0      0                 0   0   1   0   0   \n",
      "9                 1               0      0                 0   0   1   0   0   \n",
      "10                1               0      0                 0   0   1   0   0   \n",
      "11                1               0      0                 0   0   1   0   0   \n",
      "12                0               0      0                 1   0   0   1   0   \n",
      "13                1               0      0                 0   0   0   1   0   \n",
      "14                1               0      0                 0   0   0   1   0   \n",
      "15                1               0      0                 0   0   0   1   0   \n",
      "16                1               0      0                 0   0   0   1   0   \n",
      "17                1               0      0                 0   0   0   1   0   \n",
      "18                1               0      0                 0   0   0   1   0   \n",
      "19                1               0      0                 0   0   0   1   0   \n",
      "20                1               0      0                 0   0   0   1   0   \n",
      "21                1               0      0                 0   0   0   1   0   \n",
      "22                0               0      0                 0   0   0   1   0   \n",
      "23                1               0      0                 0   0   0   1   0   \n",
      "24                1               0      0                 0   0   0   1   0   \n",
      "25                1               0      0                 0   0   0   1   0   \n",
      "26                0               0      0                 0   0   0   1   0   \n",
      "27                1               0      0                 0   0   0   1   0   \n",
      "28                1               0      0                 0   0   0   1   0   \n",
      "29                1               0      0                 0   0   0   1   0   \n",
      "...             ...             ...    ...               ...  ..  ..  ..  ..   \n",
      "268026            1               0      0                 0   0   0   0   0   \n",
      "268027            1               0      0                 0   0   0   0   0   \n",
      "268028            1               0      0                 0   0   0   0   0   \n",
      "268029            1               0      0                 0   0   0   0   0   \n",
      "268030            1               0      0                 0   0   0   0   0   \n",
      "268031            1               0      0                 0   0   0   0   0   \n",
      "268032            1               0      0                 0   0   0   0   0   \n",
      "268033            1               0      0                 0   0   0   0   0   \n",
      "268034            1               0      0                 0   0   0   0   0   \n",
      "268035            1               0      0                 0   0   0   0   0   \n",
      "268036            1               0      0                 0   0   0   0   0   \n",
      "268037            1               0      0                 0   0   0   0   0   \n",
      "268038            1               0      0                 0   0   0   0   0   \n",
      "268039            1               0      0                 0   0   0   0   0   \n",
      "268040            1               0      0                 0   0   0   0   0   \n",
      "268041            1               0      0                 0   0   0   0   0   \n",
      "268042            1               0      0                 0   0   0   0   0   \n",
      "268043            1               0      0                 0   0   0   0   0   \n",
      "268044            1               0      0                 0   0   0   0   0   \n",
      "268045            1               0      0                 0   0   0   0   0   \n",
      "268046            1               0      0                 0   0   0   0   0   \n",
      "268047            1               0      0                 0   0   0   0   0   \n",
      "268048            1               0      0                 0   1   0   0   0   \n",
      "268049            1               0      0                 0   1   0   0   0   \n",
      "268050            1               0      0                 0   1   0   0   0   \n",
      "268051            1               0      0                 0   1   0   0   0   \n",
      "268052            1               0      0                 0   1   0   0   0   \n",
      "268053            1               0      0                 0   1   0   0   0   \n",
      "268054            1               0      0                 0   0   1   0   0   \n",
      "268055            1               0      0                 0   0   1   0   0   \n",
      "\n",
      "        T5  T6  Weekday  Weekend  \n",
      "0        0   0        0        1  \n",
      "1        0   0        0        1  \n",
      "2        0   0        0        1  \n",
      "3        0   0        0        1  \n",
      "4        0   0        0        1  \n",
      "5        0   0        0        1  \n",
      "6        0   0        0        1  \n",
      "7        0   0        0        1  \n",
      "8        0   0        0        1  \n",
      "9        0   0        0        1  \n",
      "10       0   0        0        1  \n",
      "11       0   0        0        1  \n",
      "12       0   0        0        1  \n",
      "13       0   0        0        1  \n",
      "14       0   0        0        1  \n",
      "15       0   0        0        1  \n",
      "16       0   0        0        1  \n",
      "17       0   0        0        1  \n",
      "18       0   0        0        1  \n",
      "19       0   0        0        1  \n",
      "20       0   0        0        1  \n",
      "21       0   0        0        1  \n",
      "22       0   0        0        1  \n",
      "23       0   0        0        1  \n",
      "24       0   0        0        1  \n",
      "25       0   0        0        1  \n",
      "26       0   0        0        1  \n",
      "27       0   0        0        1  \n",
      "28       0   0        0        1  \n",
      "29       0   0        0        1  \n",
      "...     ..  ..      ...      ...  \n",
      "268026   1   0        0        1  \n",
      "268027   1   0        0        1  \n",
      "268028   1   0        0        1  \n",
      "268029   1   0        0        1  \n",
      "268030   0   1        0        1  \n",
      "268031   0   1        0        1  \n",
      "268032   0   1        0        1  \n",
      "268033   0   1        1        0  \n",
      "268034   0   1        1        0  \n",
      "268035   0   1        1        0  \n",
      "268036   0   1        1        0  \n",
      "268037   0   1        1        0  \n",
      "268038   0   1        1        0  \n",
      "268039   0   1        1        0  \n",
      "268040   0   1        1        0  \n",
      "268041   0   1        1        0  \n",
      "268042   0   1        1        0  \n",
      "268043   0   1        1        0  \n",
      "268044   0   1        1        0  \n",
      "268045   0   1        1        0  \n",
      "268046   0   1        1        0  \n",
      "268047   0   1        1        0  \n",
      "268048   0   0        1        0  \n",
      "268049   0   0        1        0  \n",
      "268050   0   0        1        0  \n",
      "268051   0   0        1        0  \n",
      "268052   0   0        1        0  \n",
      "268053   0   0        1        0  \n",
      "268054   0   0        1        0  \n",
      "268055   0   0        1        0  \n",
      "\n",
      "[268056 rows x 16 columns]\n"
     ]
    }
   ],
   "source": [
    "import pandas as pd\n",
    "\n",
    "Assaultlist=[]\n",
    "DrugAlcohollist=[]\n",
    "Othercrimeslist=[]\n",
    "PublicDisorderlist=[]\n",
    "Theftlist=[]\n",
    "WhiteCollarCrimelist=[]\n",
    "T1list=[]\n",
    "T2list=[]\n",
    "T3list=[]\n",
    "T4list=[]\n",
    "T5list=[]\n",
    "T6list=[]\n",
    "Weekdaylist=[]\n",
    "Weekendlist=[]\n",
    "\n",
    "\n",
    "\n",
    "\n",
    "\n",
    "\n",
    "crimedata ={\"Latitude\":latlist,\"Longitude\":longlist,\"Crime_type\":typelist,\"Hour\":hourlist,\"Day\":daylist}\n",
    "\n",
    "crimedf=pd.DataFrame(crimedata)\n",
    "\n",
    "#print crimedf.Crime_type.unique()\n",
    "\n",
    "for index, row in crimedf.iterrows():\n",
    "    if row['Crime_type'] in ('AGGRAVATED ASSAULT','SIMPLE ASSAULT'):\n",
    "        Assaultlist.append(1)\n",
    "    else:\n",
    "        Assaultlist.append(0)\n",
    "    if row['Crime_type'] in ('DRUG CHARGES','VIOLATION OF LIQUOR LAWS','OPERATING UNDER INFLUENCE'):\n",
    "        DrugAlcohollist.append(1)\n",
    "    else:\n",
    "        DrugAlcohollist.append(0)\n",
    "    if row['Crime_type'] in ('DISORDERLY','PubDrink'):\n",
    "        PublicDisorderlist.append(1)\n",
    "    else:\n",
    "        PublicDisorderlist.append(0)\n",
    "    if row['Crime_type'] in ('AUTO THEFT','STOLEN PROPERTY CHARGES'):\n",
    "        Theftlist.append(1)\n",
    "    else:\n",
    "        Theftlist.append(0)\n",
    "    if row['Crime_type'] in ('FRAUD','EMBEZELLMENT'):\n",
    "        WhiteCollarCrimelist.append(1)\n",
    "    else:\n",
    "        WhiteCollarCrimelist.append(0)\n",
    "    if row['Crime_type'] not in ('FRAUD','EMBEZELLMENT','FRAUD','EMBEZELLMENT','AUTO THEFT','STOLEN PROPERTY CHARGES','DISORDERLY','PubDrink','DRUG CHARGES','VIOLATION OF LIQUOR LAWS','OPERATING UNDER INFLUENCE','AGGRAVATED ASSAULT','SIMPLE ASSAULT'):\n",
    "        Othercrimeslist.append(1)\n",
    "    else:\n",
    "        Othercrimeslist.append(0)\n",
    "    if row['Hour'] in ('01','02','03','04'):\n",
    "        T1list.append(1)\n",
    "    else:\n",
    "        T1list.append(0)\n",
    "    if row['Hour'] in ('05','06','07','08'):\n",
    "        T2list.append(1)\n",
    "    else:\n",
    "        T2list.append(0)\n",
    "    if row['Hour'] in ('09','10','11','12'):\n",
    "        T3list.append(1)\n",
    "    else:\n",
    "        T3list.append(0)\n",
    "    if row['Hour'] in ('13','14','15','16'):\n",
    "        T4list.append(1)\n",
    "    else:\n",
    "        T4list.append(0)\n",
    "    if row['Hour'] in ('17','18','19','20'):\n",
    "        T5list.append(1)\n",
    "    else:\n",
    "        T5list.append(0)\n",
    "    if row['Hour'] in ('21','22','23','00'):\n",
    "        T6list.append(1)\n",
    "    else:\n",
    "        T6list.append(0)\n",
    "    if row['Day'] in ('Monday','Tuesday','Wednesday','Thursday'):\n",
    "        Weekdaylist.append(1)\n",
    "    else:\n",
    "        Weekdaylist.append(0)\n",
    "    if row['Day'] in ('Friday','Saturday','Sunday'):\n",
    "        Weekendlist.append(1)\n",
    "    else:\n",
    "        Weekendlist.append(0)\n",
    "    \n",
    "        \n",
    "        \n",
    "        \n",
    "\n",
    "        \n",
    "crime_typedata={\"Assault\":Assaultlist,\"DrugAlcohol\":DrugAlcohollist,\"PublicDisorder\":PublicDisorderlist,\n",
    "               \"Theft\":Theftlist,\"WhiteCollarCrime\":WhiteCollarCrimelist,\"Othercrimes\":Othercrimeslist}\n",
    "\n",
    "crime_typedf=pd.DataFrame(crime_typedata)\n",
    "\n",
    "Timedata={\"T1\":T1list,\"T2\":T2list,\"T3\":T3list,\"T4\":T4list,\"T5\":T5list,\"T6\":T6list,\n",
    "         \"Weekday\":Weekdaylist,\"Weekend\":Weekendlist}\n",
    "\n",
    "timedf=pd.DataFrame(Timedata)\n",
    "\n",
    "#print crimedf.Day.unique()\n",
    "\n",
    "df=crimedf[['Latitude','Longitude']]\n",
    "df1 = pd.concat([df, crime_typedf], axis=1)\n",
    "Crimematrix = pd.concat([df1, timedf], axis=1)\n",
    "\n",
    "#df=df[df.Day  == 'Monday']\n",
    "\n",
    "print Crimematrix\n",
    "\n"
   ]
  },
  {
   "cell_type": "code",
   "execution_count": 89,
   "metadata": {
    "collapsed": false
   },
   "outputs": [
    {
     "data": {
      "text/plain": [
       "<matplotlib.text.Text at 0x2e736630>"
      ]
     },
     "execution_count": 89,
     "metadata": {},
     "output_type": "execute_result"
    },
    {
     "data": {
      "image/png": "[encoded data removed]",
      "text/plain": [
       "<matplotlib.figure.Figure at 0x23453080>"
      ]
     },
     "metadata": {},
     "output_type": "display_data"
    }
   ],
   "source": [
    "from sklearn.cluster import KMeans\n",
    "import seaborn as sns\n",
    "import matplotlib.pyplot as plt\n",
    "%matplotlib inline\n",
    "\n",
    "import numpy as np\n",
    "error = np.zeros(30)\n",
    "error[0] = 0;\n",
    "for k in range(1,30):\n",
    "    kmeans = KMeans(init='k-means++', n_clusters=k, n_init=200)\n",
    "    kmeans.fit_predict(Crimematrix)\n",
    "    error[k] = kmeans.inertia_\n",
    "\n",
    "plt.plot(range(1,len(error)),error[1:])\n",
    "plt.xlabel('Number of clusters')\n",
    "plt.ylabel('Error')\n",
    "\n"
   ]
  },
  {
   "cell_type": "code",
   "execution_count": 114,
   "metadata": {
    "collapsed": false
   },
   "outputs": [],
   "source": [
    "from sklearn import preprocessing as prep\n",
    "\n",
    "Original=Crimematrix[['Latitude','Longitude']]\n",
    "\n",
    "#Crimematrix[['Latitude','Longitude']] = Crimematrix[['Latitude','Longitude']].apply(lambda k: prep.MinMaxScaler().fit_transform(k))\n",
    "\n",
    "\n",
    "#Crimematrix['Latitude']=Crimematrix['Latitude'].apply(float)\n",
    "#Crimematrix['Longitude']=Crimematrix['Longitude'].apply(float)\n",
    "\n",
    "latstd = Crimematrix['Latitude'].std()\n",
    "latmean = Crimematrix['Latitude'].mean()\n",
    "lolongmean = Crimematrix['Longitude'].mean()\n",
    "Crimematrix['Latitude'] = Crimematrix['Latitude'].apply(lambda x: (x-latmean)/latstd)\n",
    "Crimematrix['Longitude'] = Crimematrix['Longitude'].apply(lambda x: (x-longmean)/longstd)\n"
   ]
  },
  {
   "cell_type": "code",
   "execution_count": 115,
   "metadata": {
    "collapsed": false
   },
   "outputs": [
    {
     "name": "stdout",
     "output_type": "stream",
     "text": [
      "The total error of the clustering is:  319363.68741\n",
      "\n",
      "Cluster labels\n",
      "[2 2 2 ..., 1 1 1]\n",
      "\n",
      " Cluster Centroids\n",
      "[[  2.43246419e-01   4.11018462e+00   8.46357231e-02   5.50326001e-02\n",
      "    7.91719154e-01   1.05206329e-02   2.03698833e-02   3.77220061e-02\n",
      "    5.75381719e-02   1.09089273e-01   2.25010036e-01   2.12973602e-01\n",
      "    2.20988663e-01   1.74400255e-01   1.00000000e+00  -7.07156556e-13]\n",
      " [ -4.11008895e+00   4.17134638e+00   6.18116281e-02   4.17195114e-02\n",
      "    8.48140979e-01   7.74314131e-03   1.19484681e-02   2.86362726e-02\n",
      "    7.29590815e-02   9.59882518e-02   2.12268874e-01   2.18276484e-01\n",
      "    2.25285361e-01   1.75221948e-01   5.81269608e-01   4.18730392e-01]\n",
      " [  2.43372160e-01   4.11018492e+00   9.38515797e-02   4.34910725e-02\n",
      "    8.00869269e-01   1.20997818e-02   2.12989309e-02   2.83893662e-02\n",
      "    1.20316399e-01   8.46708473e-02   1.87896535e-01   1.92767756e-01\n",
      "    2.08044421e-01   2.06304042e-01   7.07434111e-13   1.00000000e+00]]\n"
     ]
    }
   ],
   "source": [
    "kmeans = KMeans(init='k-means++', n_clusters=3, n_init=200)\n",
    "kmeans.fit_predict(Crimematrix)\n",
    "centroids = kmeans.cluster_centers_\n",
    "labels = kmeans.labels_\n",
    "error = kmeans.inertia_\n",
    "\n",
    "print \"The total error of the clustering is: \", error\n",
    "print '\\nCluster labels'\n",
    "print labels\n",
    "print '\\n Cluster Centroids'\n",
    "print centroids"
   ]
  },
  {
   "cell_type": "code",
   "execution_count": 116,
   "metadata": {
    "collapsed": true
   },
   "outputs": [],
   "source": [
    "\n",
    "clusterdf = pd.DataFrame.copy(Crimematrix)\n",
    "clusterdf['lat'] = Original['Latitude']\n",
    "clusterdf['long'] = Original['Longitude']\n",
    "clusterdf['labels'] = labels\n",
    "\n",
    "cluster1=clusterdf[clusterdf['labels'] == 0]\n",
    "cluster2=clusterdf[clusterdf['labels'] == 1]\n",
    "cluster3=clusterdf[clusterdf['labels'] == 2]\n",
    "\n"
   ]
  },
  {
   "cell_type": "code",
   "execution_count": 117,
   "metadata": {
    "collapsed": false
   },
   "outputs": [],
   "source": [
    "#print Crimematrix.columns\n",
    "\n",
    "def clustersOf(df):\n",
    "    print \"Assault :\",df['Assault'].sum()\n",
    "    print \"DrugAlcohol :\",df['DrugAlcohol'].sum()\n",
    "    print \"Othercrimes\",df['Othercrimes'].sum()\n",
    "    print \"PublicDisorder\",df['PublicDisorder'].sum()\n",
    "    print \"Theft\",df['Theft'].sum()\n",
    "    print \"WhiteCollarCrime\",df['WhiteCollarCrime'].sum()\n",
    "    print \"T1\",df['T1'].sum()\n",
    "    print \"T2\",df['T2'].sum()\n",
    "    print \"T3\",df['T3'].sum()\n",
    "    print \"T4\",df['T4'].sum()\n",
    "    print \"T5\",df['T5'].sum()\n",
    "    print \"T6\",df['T6'].sum()\n",
    "    print \"Weekday\",df['Weekday'].sum()\n",
    "    print \"Weekend\",df['Weekend'].sum()\n",
    "    print \"------------------------------\""
   ]
  },
  {
   "cell_type": "code",
   "execution_count": 118,
   "metadata": {
    "collapsed": false
   },
   "outputs": [
    {
     "name": "stdout",
     "output_type": "stream",
     "text": [
      "Assault : 12228\n",
      "DrugAlcohol : 7951\n",
      "Othercrimes 114386\n",
      "PublicDisorder 1520\n",
      "Theft 2943\n",
      "WhiteCollarCrime 5450\n",
      "T1 8313\n",
      "T2 15761\n",
      "T3 32509\n",
      "T4 30770\n",
      "T5 31928\n",
      "T6 25197\n",
      "Weekday 144478\n",
      "Weekend 0\n",
      "------------------------------\n",
      "Assault : 926\n",
      "DrugAlcohol : 625\n",
      "Othercrimes 12706\n",
      "PublicDisorder 116\n",
      "Theft 179\n",
      "WhiteCollarCrime 429\n",
      "T1 1093\n",
      "T2 1438\n",
      "T3 3180\n",
      "T4 3270\n",
      "T5 3375\n",
      "T6 2625\n",
      "Weekday 8708\n",
      "Weekend 6273\n",
      "------------------------------\n",
      "Assault : 10192\n",
      "DrugAlcohol : 4723\n",
      "Othercrimes 86972\n",
      "PublicDisorder 1314\n",
      "Theft 2313\n",
      "WhiteCollarCrime 3083\n",
      "T1 13066\n",
      "T2 9195\n",
      "T3 20405\n",
      "T4 20934\n",
      "T5 22593\n",
      "T6 22404\n",
      "Weekday 0\n",
      "Weekend 108597\n",
      "------------------------------\n"
     ]
    }
   ],
   "source": [
    "clustersOf(cluster1)\n",
    "clustersOf(cluster2)\n",
    "clustersOf(cluster3)\n"
   ]
  },
  {
   "cell_type": "code",
   "execution_count": 119,
   "metadata": {
    "collapsed": false
   },
   "outputs": [],
   "source": [
    "import gmplot\n",
    "gmap = gmplot.GoogleMapPlotter(42, -71, 10)\n",
    "\n",
    "\n",
    "\n",
    "gmap.scatter(cluster1['lat'],cluster1['long'], c='#00ff00', marker=False) #Green\n",
    "gmap.scatter(cluster2['lat'],cluster2['long'], c='#000000', marker=False) #Black\n",
    "gmap.scatter(cluster3['lat'],cluster3['long'], c='#ffff00', marker=False) #Yellow\n",
    "gmap.draw(\"clustering.html\")\n",
    "\n",
    "#print Crimematrix"
   ]
  },
  {
   "cell_type": "code",
   "execution_count": null,
   "metadata": {
    "collapsed": true
   },
   "outputs": [],
   "source": []
  }
 ],
 "metadata": {
  "kernelspec": {
   "display_name": "Python 2",
   "language": "python",
   "name": "python2"
  },
  "language_info": {
   "codemirror_mode": {
    "name": "ipython",
    "version": 2
   },
   "file_extension": ".py",
   "mimetype": "text/x-python",
   "name": "python",
   "nbconvert_exporter": "python",
   "pygments_lexer": "ipython2",
   "version": "2.7.11"
  }
 },
 "nbformat": 4,
 "nbformat_minor": 0
}
